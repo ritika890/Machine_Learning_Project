{
 "cells": [
  {
   "cell_type": "markdown",
   "metadata": {},
   "source": [
    "<h1> Loading Libraries and necessary packages</h1>"
   ]
  },
  {
   "cell_type": "code",
   "execution_count": 13,
   "metadata": {},
   "outputs": [],
   "source": [
    "import numpy as np   #library required for matrix calculations\n",
    "import pandas as pd  #used to treat data as a dataframe\n",
    "import re            #library used for regular expressions\n",
    "import xgboost as xb #boosting algorithm \n",
    "import matplotlib.pyplot as plt #library required for data visualization\n",
    "%matplotlib inline   \n",
    "plt.style.use('seaborn') #another visualization library\n",
    "import seaborn as sns #importing for viewing data visualizations\n",
    "from geopy.distance import great_circle #library used to calculate the distance\n",
    "from geopy.distance import vincenty #Library used to calculate the distance by points\n",
    "from collections import Counter #function used for counting the values"
   ]
  },
  {
   "cell_type": "code",
   "execution_count": 14,
   "metadata": {},
   "outputs": [],
   "source": [
    "dataframe_listings = pd.read_csv('listings_summary.csv') #importing listings as a dataframe"
   ]
  },
  {
   "cell_type": "code",
   "execution_count": 15,
   "metadata": {},
   "outputs": [
    {
     "data": {
      "text/plain": [
       "(22552, 96)"
      ]
     },
     "execution_count": 15,
     "metadata": {},
     "output_type": "execute_result"
    }
   ],
   "source": [
    "dataframe_listings.shape   #checking rows and columns in dataframe"
   ]
  },
  {
   "cell_type": "code",
   "execution_count": 16,
   "metadata": {},
   "outputs": [
    {
     "data": {
      "text/html": [
       "<div>\n",
       "<style scoped>\n",
       "    .dataframe tbody tr th:only-of-type {\n",
       "        vertical-align: middle;\n",
       "    }\n",
       "\n",
       "    .dataframe tbody tr th {\n",
       "        vertical-align: top;\n",
       "    }\n",
       "\n",
       "    .dataframe thead th {\n",
       "        text-align: right;\n",
       "    }\n",
       "</style>\n",
       "<table border=\"1\" class=\"dataframe\">\n",
       "  <thead>\n",
       "    <tr style=\"text-align: right;\">\n",
       "      <th></th>\n",
       "      <th>id</th>\n",
       "      <th>listing_url</th>\n",
       "      <th>scrape_id</th>\n",
       "      <th>last_scraped</th>\n",
       "      <th>name</th>\n",
       "      <th>summary</th>\n",
       "      <th>space</th>\n",
       "      <th>description</th>\n",
       "      <th>experiences_offered</th>\n",
       "      <th>neighborhood_overview</th>\n",
       "      <th>...</th>\n",
       "      <th>requires_license</th>\n",
       "      <th>license</th>\n",
       "      <th>jurisdiction_names</th>\n",
       "      <th>instant_bookable</th>\n",
       "      <th>is_business_travel_ready</th>\n",
       "      <th>cancellation_policy</th>\n",
       "      <th>require_guest_profile_picture</th>\n",
       "      <th>require_guest_phone_verification</th>\n",
       "      <th>calculated_host_listings_count</th>\n",
       "      <th>reviews_per_month</th>\n",
       "    </tr>\n",
       "  </thead>\n",
       "  <tbody>\n",
       "    <tr>\n",
       "      <td>0</td>\n",
       "      <td>2015</td>\n",
       "      <td>https://www.airbnb.com/rooms/2015</td>\n",
       "      <td>20181107122246</td>\n",
       "      <td>2018-11-07</td>\n",
       "      <td>Berlin-Mitte Value! Quiet courtyard/very central</td>\n",
       "      <td>Great location!  30 of 75 sq meters. This wood...</td>\n",
       "      <td>A+++ location! This „Einliegerwohnung“ is an e...</td>\n",
       "      <td>Great location!  30 of 75 sq meters. This wood...</td>\n",
       "      <td>none</td>\n",
       "      <td>It is located in the former East Berlin area o...</td>\n",
       "      <td>...</td>\n",
       "      <td>t</td>\n",
       "      <td>NaN</td>\n",
       "      <td>NaN</td>\n",
       "      <td>f</td>\n",
       "      <td>f</td>\n",
       "      <td>strict_14_with_grace_period</td>\n",
       "      <td>f</td>\n",
       "      <td>f</td>\n",
       "      <td>4</td>\n",
       "      <td>3.76</td>\n",
       "    </tr>\n",
       "    <tr>\n",
       "      <td>1</td>\n",
       "      <td>2695</td>\n",
       "      <td>https://www.airbnb.com/rooms/2695</td>\n",
       "      <td>20181107122246</td>\n",
       "      <td>2018-11-07</td>\n",
       "      <td>Prenzlauer Berg close to Mauerpark</td>\n",
       "      <td>NaN</td>\n",
       "      <td>In the summertime we are spending most of our ...</td>\n",
       "      <td>In the summertime we are spending most of our ...</td>\n",
       "      <td>none</td>\n",
       "      <td>NaN</td>\n",
       "      <td>...</td>\n",
       "      <td>t</td>\n",
       "      <td>NaN</td>\n",
       "      <td>NaN</td>\n",
       "      <td>f</td>\n",
       "      <td>f</td>\n",
       "      <td>flexible</td>\n",
       "      <td>f</td>\n",
       "      <td>f</td>\n",
       "      <td>1</td>\n",
       "      <td>1.42</td>\n",
       "    </tr>\n",
       "    <tr>\n",
       "      <td>2</td>\n",
       "      <td>3176</td>\n",
       "      <td>https://www.airbnb.com/rooms/3176</td>\n",
       "      <td>20181107122246</td>\n",
       "      <td>2018-11-07</td>\n",
       "      <td>Fabulous Flat in great Location</td>\n",
       "      <td>This beautiful first floor apartment  is situa...</td>\n",
       "      <td>1st floor (68m2) apartment on Kollwitzplatz/ P...</td>\n",
       "      <td>This beautiful first floor apartment  is situa...</td>\n",
       "      <td>none</td>\n",
       "      <td>The neighbourhood is famous for its variety of...</td>\n",
       "      <td>...</td>\n",
       "      <td>t</td>\n",
       "      <td>NaN</td>\n",
       "      <td>NaN</td>\n",
       "      <td>t</td>\n",
       "      <td>f</td>\n",
       "      <td>strict_14_with_grace_period</td>\n",
       "      <td>f</td>\n",
       "      <td>f</td>\n",
       "      <td>1</td>\n",
       "      <td>1.25</td>\n",
       "    </tr>\n",
       "    <tr>\n",
       "      <td>3</td>\n",
       "      <td>3309</td>\n",
       "      <td>https://www.airbnb.com/rooms/3309</td>\n",
       "      <td>20181107122246</td>\n",
       "      <td>2018-11-07</td>\n",
       "      <td>BerlinSpot Schöneberg near KaDeWe</td>\n",
       "      <td>First of all: I prefer short-notice bookings. ...</td>\n",
       "      <td>Your room is really big and has 26 sqm, is ver...</td>\n",
       "      <td>First of all: I prefer short-notice bookings. ...</td>\n",
       "      <td>none</td>\n",
       "      <td>My flat is in the middle of West-Berlin, direc...</td>\n",
       "      <td>...</td>\n",
       "      <td>t</td>\n",
       "      <td>NaN</td>\n",
       "      <td>NaN</td>\n",
       "      <td>f</td>\n",
       "      <td>f</td>\n",
       "      <td>strict_14_with_grace_period</td>\n",
       "      <td>f</td>\n",
       "      <td>f</td>\n",
       "      <td>1</td>\n",
       "      <td>0.39</td>\n",
       "    </tr>\n",
       "    <tr>\n",
       "      <td>4</td>\n",
       "      <td>7071</td>\n",
       "      <td>https://www.airbnb.com/rooms/7071</td>\n",
       "      <td>20181107122246</td>\n",
       "      <td>2018-11-07</td>\n",
       "      <td>BrightRoom with sunny greenview!</td>\n",
       "      <td>Cozy and large room in the beautiful district ...</td>\n",
       "      <td>The BrightRoom is an approx. 20 sqm (215ft²), ...</td>\n",
       "      <td>Cozy and large room in the beautiful district ...</td>\n",
       "      <td>none</td>\n",
       "      <td>Great neighborhood with plenty of Cafés, Baker...</td>\n",
       "      <td>...</td>\n",
       "      <td>t</td>\n",
       "      <td>NaN</td>\n",
       "      <td>NaN</td>\n",
       "      <td>f</td>\n",
       "      <td>f</td>\n",
       "      <td>moderate</td>\n",
       "      <td>f</td>\n",
       "      <td>f</td>\n",
       "      <td>1</td>\n",
       "      <td>1.75</td>\n",
       "    </tr>\n",
       "  </tbody>\n",
       "</table>\n",
       "<p>5 rows × 96 columns</p>\n",
       "</div>"
      ],
      "text/plain": [
       "     id                        listing_url       scrape_id last_scraped  \\\n",
       "0  2015  https://www.airbnb.com/rooms/2015  20181107122246   2018-11-07   \n",
       "1  2695  https://www.airbnb.com/rooms/2695  20181107122246   2018-11-07   \n",
       "2  3176  https://www.airbnb.com/rooms/3176  20181107122246   2018-11-07   \n",
       "3  3309  https://www.airbnb.com/rooms/3309  20181107122246   2018-11-07   \n",
       "4  7071  https://www.airbnb.com/rooms/7071  20181107122246   2018-11-07   \n",
       "\n",
       "                                               name  \\\n",
       "0  Berlin-Mitte Value! Quiet courtyard/very central   \n",
       "1                Prenzlauer Berg close to Mauerpark   \n",
       "2                   Fabulous Flat in great Location   \n",
       "3                 BerlinSpot Schöneberg near KaDeWe   \n",
       "4                  BrightRoom with sunny greenview!   \n",
       "\n",
       "                                             summary  \\\n",
       "0  Great location!  30 of 75 sq meters. This wood...   \n",
       "1                                                NaN   \n",
       "2  This beautiful first floor apartment  is situa...   \n",
       "3  First of all: I prefer short-notice bookings. ...   \n",
       "4  Cozy and large room in the beautiful district ...   \n",
       "\n",
       "                                               space  \\\n",
       "0  A+++ location! This „Einliegerwohnung“ is an e...   \n",
       "1  In the summertime we are spending most of our ...   \n",
       "2  1st floor (68m2) apartment on Kollwitzplatz/ P...   \n",
       "3  Your room is really big and has 26 sqm, is ver...   \n",
       "4  The BrightRoom is an approx. 20 sqm (215ft²), ...   \n",
       "\n",
       "                                         description experiences_offered  \\\n",
       "0  Great location!  30 of 75 sq meters. This wood...                none   \n",
       "1  In the summertime we are spending most of our ...                none   \n",
       "2  This beautiful first floor apartment  is situa...                none   \n",
       "3  First of all: I prefer short-notice bookings. ...                none   \n",
       "4  Cozy and large room in the beautiful district ...                none   \n",
       "\n",
       "                               neighborhood_overview  ... requires_license  \\\n",
       "0  It is located in the former East Berlin area o...  ...                t   \n",
       "1                                                NaN  ...                t   \n",
       "2  The neighbourhood is famous for its variety of...  ...                t   \n",
       "3  My flat is in the middle of West-Berlin, direc...  ...                t   \n",
       "4  Great neighborhood with plenty of Cafés, Baker...  ...                t   \n",
       "\n",
       "  license jurisdiction_names instant_bookable is_business_travel_ready  \\\n",
       "0     NaN                NaN                f                        f   \n",
       "1     NaN                NaN                f                        f   \n",
       "2     NaN                NaN                t                        f   \n",
       "3     NaN                NaN                f                        f   \n",
       "4     NaN                NaN                f                        f   \n",
       "\n",
       "           cancellation_policy  require_guest_profile_picture  \\\n",
       "0  strict_14_with_grace_period                              f   \n",
       "1                     flexible                              f   \n",
       "2  strict_14_with_grace_period                              f   \n",
       "3  strict_14_with_grace_period                              f   \n",
       "4                     moderate                              f   \n",
       "\n",
       "  require_guest_phone_verification  calculated_host_listings_count  \\\n",
       "0                                f                               4   \n",
       "1                                f                               1   \n",
       "2                                f                               1   \n",
       "3                                f                               1   \n",
       "4                                f                               1   \n",
       "\n",
       "   reviews_per_month  \n",
       "0               3.76  \n",
       "1               1.42  \n",
       "2               1.25  \n",
       "3               0.39  \n",
       "4               1.75  \n",
       "\n",
       "[5 rows x 96 columns]"
      ]
     },
     "execution_count": 16,
     "metadata": {},
     "output_type": "execute_result"
    }
   ],
   "source": [
    "dataframe_listings.head() #viewing listings from the dataframe"
   ]
  },
  {
   "cell_type": "code",
   "execution_count": 17,
   "metadata": {},
   "outputs": [
    {
     "name": "stdout",
     "output_type": "stream",
     "text": [
      "<class 'pandas.core.frame.DataFrame'>\n",
      "RangeIndex: 22552 entries, 0 to 22551\n",
      "Data columns (total 96 columns):\n",
      "id                                  22552 non-null int64\n",
      "listing_url                         22552 non-null object\n",
      "scrape_id                           22552 non-null int64\n",
      "last_scraped                        22552 non-null object\n",
      "name                                22493 non-null object\n",
      "summary                             21589 non-null object\n",
      "space                               14020 non-null object\n",
      "description                         22349 non-null object\n",
      "experiences_offered                 22552 non-null object\n",
      "neighborhood_overview               11540 non-null object\n",
      "notes                               7215 non-null object\n",
      "transit                             13036 non-null object\n",
      "access                              10837 non-null object\n",
      "interaction                         10406 non-null object\n",
      "house_rules                         11449 non-null object\n",
      "thumbnail_url                       0 non-null float64\n",
      "medium_url                          0 non-null float64\n",
      "picture_url                         22552 non-null object\n",
      "xl_picture_url                      0 non-null float64\n",
      "host_id                             22552 non-null int64\n",
      "host_url                            22552 non-null object\n",
      "host_name                           22526 non-null object\n",
      "host_since                          22526 non-null object\n",
      "host_location                       22436 non-null object\n",
      "host_about                          11189 non-null object\n",
      "host_response_time                  9658 non-null object\n",
      "host_response_rate                  9657 non-null object\n",
      "host_acceptance_rate                0 non-null float64\n",
      "host_is_superhost                   22526 non-null object\n",
      "host_thumbnail_url                  22526 non-null object\n",
      "host_picture_url                    22526 non-null object\n",
      "host_neighbourhood                  17458 non-null object\n",
      "host_listings_count                 22526 non-null float64\n",
      "host_total_listings_count           22526 non-null float64\n",
      "host_verifications                  22552 non-null object\n",
      "host_has_profile_pic                22526 non-null object\n",
      "host_identity_verified              22526 non-null object\n",
      "street                              22552 non-null object\n",
      "neighbourhood                       21421 non-null object\n",
      "neighbourhood_cleansed              22552 non-null object\n",
      "neighbourhood_group_cleansed        22552 non-null object\n",
      "city                                22547 non-null object\n",
      "state                               22468 non-null object\n",
      "zipcode                             21896 non-null object\n",
      "market                              22489 non-null object\n",
      "smart_location                      22552 non-null object\n",
      "country_code                        22552 non-null object\n",
      "country                             22552 non-null object\n",
      "latitude                            22552 non-null float64\n",
      "longitude                           22552 non-null float64\n",
      "is_location_exact                   22552 non-null object\n",
      "property_type                       22552 non-null object\n",
      "room_type                           22552 non-null object\n",
      "accommodates                        22552 non-null int64\n",
      "bathrooms                           22520 non-null float64\n",
      "bedrooms                            22534 non-null float64\n",
      "beds                                22512 non-null float64\n",
      "bed_type                            22552 non-null object\n",
      "amenities                           22552 non-null object\n",
      "square_feet                         446 non-null float64\n",
      "price                               22552 non-null object\n",
      "weekly_price                        3681 non-null object\n",
      "monthly_price                       2659 non-null object\n",
      "security_deposit                    13191 non-null object\n",
      "cleaning_fee                        15406 non-null object\n",
      "guests_included                     22552 non-null int64\n",
      "extra_people                        22552 non-null object\n",
      "minimum_nights                      22552 non-null int64\n",
      "maximum_nights                      22552 non-null int64\n",
      "calendar_updated                    22552 non-null object\n",
      "has_availability                    22552 non-null object\n",
      "availability_30                     22552 non-null int64\n",
      "availability_60                     22552 non-null int64\n",
      "availability_90                     22552 non-null int64\n",
      "availability_365                    22552 non-null int64\n",
      "calendar_last_scraped               22552 non-null object\n",
      "number_of_reviews                   22552 non-null int64\n",
      "first_review                        18638 non-null object\n",
      "last_review                         18644 non-null object\n",
      "review_scores_rating                18163 non-null float64\n",
      "review_scores_accuracy              18138 non-null float64\n",
      "review_scores_cleanliness           18141 non-null float64\n",
      "review_scores_checkin               18120 non-null float64\n",
      "review_scores_communication         18134 non-null float64\n",
      "review_scores_location              18121 non-null float64\n",
      "review_scores_value                 18117 non-null float64\n",
      "requires_license                    22552 non-null object\n",
      "license                             1638 non-null object\n",
      "jurisdiction_names                  0 non-null float64\n",
      "instant_bookable                    22552 non-null object\n",
      "is_business_travel_ready            22552 non-null object\n",
      "cancellation_policy                 22552 non-null object\n",
      "require_guest_profile_picture       22552 non-null object\n",
      "require_guest_phone_verification    22552 non-null object\n",
      "calculated_host_listings_count      22552 non-null int64\n",
      "reviews_per_month                   18638 non-null float64\n",
      "dtypes: float64(21), int64(13), object(62)\n",
      "memory usage: 16.5+ MB\n"
     ]
    }
   ],
   "source": [
    "dataframe_listings.info()"
   ]
  },
  {
   "cell_type": "code",
   "execution_count": 18,
   "metadata": {},
   "outputs": [
    {
     "data": {
      "text/plain": [
       "0"
      ]
     },
     "execution_count": 18,
     "metadata": {},
     "output_type": "execute_result"
    }
   ],
   "source": [
    "dataframe_listings.duplicated().sum()  #checking for duplicates present in whole dataset"
   ]
  },
  {
   "cell_type": "code",
   "execution_count": 19,
   "metadata": {},
   "outputs": [
    {
     "data": {
      "text/plain": [
       "Index(['id', 'listing_url', 'scrape_id', 'last_scraped', 'name', 'summary',\n",
       "       'space', 'description', 'experiences_offered', 'neighborhood_overview',\n",
       "       'notes', 'transit', 'access', 'interaction', 'house_rules',\n",
       "       'thumbnail_url', 'medium_url', 'picture_url', 'xl_picture_url',\n",
       "       'host_id', 'host_url', 'host_name', 'host_since', 'host_location',\n",
       "       'host_about', 'host_response_time', 'host_response_rate',\n",
       "       'host_acceptance_rate', 'host_is_superhost', 'host_thumbnail_url',\n",
       "       'host_picture_url', 'host_neighbourhood', 'host_listings_count',\n",
       "       'host_total_listings_count', 'host_verifications',\n",
       "       'host_has_profile_pic', 'host_identity_verified', 'street',\n",
       "       'neighbourhood', 'neighbourhood_cleansed',\n",
       "       'neighbourhood_group_cleansed', 'city', 'state', 'zipcode', 'market',\n",
       "       'smart_location', 'country_code', 'country', 'latitude', 'longitude',\n",
       "       'is_location_exact', 'property_type', 'room_type', 'accommodates',\n",
       "       'bathrooms', 'bedrooms', 'beds', 'bed_type', 'amenities', 'square_feet',\n",
       "       'price', 'weekly_price', 'monthly_price', 'security_deposit',\n",
       "       'cleaning_fee', 'guests_included', 'extra_people', 'minimum_nights',\n",
       "       'maximum_nights', 'calendar_updated', 'has_availability',\n",
       "       'availability_30', 'availability_60', 'availability_90',\n",
       "       'availability_365', 'calendar_last_scraped', 'number_of_reviews',\n",
       "       'first_review', 'last_review', 'review_scores_rating',\n",
       "       'review_scores_accuracy', 'review_scores_cleanliness',\n",
       "       'review_scores_checkin', 'review_scores_communication',\n",
       "       'review_scores_location', 'review_scores_value', 'requires_license',\n",
       "       'license', 'jurisdiction_names', 'instant_bookable',\n",
       "       'is_business_travel_ready', 'cancellation_policy',\n",
       "       'require_guest_profile_picture', 'require_guest_phone_verification',\n",
       "       'calculated_host_listings_count', 'reviews_per_month'],\n",
       "      dtype='object')"
      ]
     },
     "execution_count": 19,
     "metadata": {},
     "output_type": "execute_result"
    }
   ],
   "source": [
    "dataframe_listings.columns #printing the names of the columns"
   ]
  },
  {
   "cell_type": "markdown",
   "metadata": {},
   "source": [
    "<h1> Data Cleaning and Preprocessing</h1>"
   ]
  },
  {
   "cell_type": "markdown",
   "metadata": {},
   "source": [
    "<h2> Selecting Relevant Columns </h2>"
   ]
  },
  {
   "cell_type": "code",
   "execution_count": 20,
   "metadata": {},
   "outputs": [],
   "source": [
    "##selecting the useful columns out of the dataset \n",
    "relevant_columns = ['id','room_type','neighbourhood_group_cleansed','accommodates', 'bathrooms', 'description',\n",
    "                    'latitude','longitude', 'property_type', 'space',  'host_has_profile_pic', 'bedrooms',\n",
    "                    'extra_people', 'guests_included','minimum_nights','is_business_travel_ready', 'cleaning_fee', \n",
    "                   'security_deposit','bed_type', 'amenities', 'square_feet', 'price',\n",
    "                   'instant_bookable', 'cancellation_policy','review_scores_accuracy','number_of_reviews']"
   ]
  },
  {
   "cell_type": "code",
   "execution_count": 21,
   "metadata": {},
   "outputs": [],
   "source": [
    "relevant_dataframe = dataframe_listings[relevant_columns].set_index('id') #setting the index of the dataset"
   ]
  },
  {
   "cell_type": "code",
   "execution_count": 22,
   "metadata": {},
   "outputs": [
    {
     "data": {
      "text/plain": [
       "array(['Mitte', 'Pankow', 'Tempelhof - Schöneberg',\n",
       "       'Friedrichshain-Kreuzberg', 'Neukölln', 'Charlottenburg-Wilm.',\n",
       "       'Treptow - Köpenick', 'Steglitz - Zehlendorf', 'Reinickendorf',\n",
       "       'Lichtenberg', 'Marzahn - Hellersdorf', 'Spandau'], dtype=object)"
      ]
     },
     "execution_count": 22,
     "metadata": {},
     "output_type": "execute_result"
    }
   ],
   "source": [
    "relevant_dataframe.neighbourhood_group_cleansed.unique()"
   ]
  },
  {
   "cell_type": "code",
   "execution_count": 23,
   "metadata": {},
   "outputs": [
    {
     "data": {
      "text/html": [
       "<div>\n",
       "<style scoped>\n",
       "    .dataframe tbody tr th:only-of-type {\n",
       "        vertical-align: middle;\n",
       "    }\n",
       "\n",
       "    .dataframe tbody tr th {\n",
       "        vertical-align: top;\n",
       "    }\n",
       "\n",
       "    .dataframe thead th {\n",
       "        text-align: right;\n",
       "    }\n",
       "</style>\n",
       "<table border=\"1\" class=\"dataframe\">\n",
       "  <thead>\n",
       "    <tr style=\"text-align: right;\">\n",
       "      <th></th>\n",
       "      <th>room_type</th>\n",
       "      <th>neighbourhood_group_cleansed</th>\n",
       "      <th>accommodates</th>\n",
       "      <th>bathrooms</th>\n",
       "      <th>description</th>\n",
       "      <th>latitude</th>\n",
       "      <th>longitude</th>\n",
       "      <th>property_type</th>\n",
       "      <th>space</th>\n",
       "      <th>host_has_profile_pic</th>\n",
       "      <th>...</th>\n",
       "      <th>cleaning_fee</th>\n",
       "      <th>security_deposit</th>\n",
       "      <th>bed_type</th>\n",
       "      <th>amenities</th>\n",
       "      <th>square_feet</th>\n",
       "      <th>price</th>\n",
       "      <th>instant_bookable</th>\n",
       "      <th>cancellation_policy</th>\n",
       "      <th>review_scores_accuracy</th>\n",
       "      <th>number_of_reviews</th>\n",
       "    </tr>\n",
       "    <tr>\n",
       "      <th>id</th>\n",
       "      <th></th>\n",
       "      <th></th>\n",
       "      <th></th>\n",
       "      <th></th>\n",
       "      <th></th>\n",
       "      <th></th>\n",
       "      <th></th>\n",
       "      <th></th>\n",
       "      <th></th>\n",
       "      <th></th>\n",
       "      <th></th>\n",
       "      <th></th>\n",
       "      <th></th>\n",
       "      <th></th>\n",
       "      <th></th>\n",
       "      <th></th>\n",
       "      <th></th>\n",
       "      <th></th>\n",
       "      <th></th>\n",
       "      <th></th>\n",
       "      <th></th>\n",
       "    </tr>\n",
       "  </thead>\n",
       "  <tbody>\n",
       "    <tr>\n",
       "      <td>2015</td>\n",
       "      <td>Entire home/apt</td>\n",
       "      <td>Mitte</td>\n",
       "      <td>3</td>\n",
       "      <td>1.0</td>\n",
       "      <td>Great location!  30 of 75 sq meters. This wood...</td>\n",
       "      <td>52.534537</td>\n",
       "      <td>13.402557</td>\n",
       "      <td>Guesthouse</td>\n",
       "      <td>A+++ location! This „Einliegerwohnung“ is an e...</td>\n",
       "      <td>t</td>\n",
       "      <td>...</td>\n",
       "      <td>$30.00</td>\n",
       "      <td>$200.00</td>\n",
       "      <td>Real Bed</td>\n",
       "      <td>{TV,\"Cable TV\",Wifi,Kitchen,Gym,Heating,\"Famil...</td>\n",
       "      <td>NaN</td>\n",
       "      <td>$60.00</td>\n",
       "      <td>f</td>\n",
       "      <td>strict_14_with_grace_period</td>\n",
       "      <td>10.0</td>\n",
       "      <td>118</td>\n",
       "    </tr>\n",
       "    <tr>\n",
       "      <td>2695</td>\n",
       "      <td>Private room</td>\n",
       "      <td>Pankow</td>\n",
       "      <td>2</td>\n",
       "      <td>1.0</td>\n",
       "      <td>In the summertime we are spending most of our ...</td>\n",
       "      <td>52.548513</td>\n",
       "      <td>13.404553</td>\n",
       "      <td>Apartment</td>\n",
       "      <td>In the summertime we are spending most of our ...</td>\n",
       "      <td>t</td>\n",
       "      <td>...</td>\n",
       "      <td>$0.00</td>\n",
       "      <td>$0.00</td>\n",
       "      <td>Real Bed</td>\n",
       "      <td>{Wifi,Kitchen,Elevator,Heating,Washer,Essentia...</td>\n",
       "      <td>NaN</td>\n",
       "      <td>$17.00</td>\n",
       "      <td>f</td>\n",
       "      <td>flexible</td>\n",
       "      <td>10.0</td>\n",
       "      <td>6</td>\n",
       "    </tr>\n",
       "    <tr>\n",
       "      <td>3176</td>\n",
       "      <td>Entire home/apt</td>\n",
       "      <td>Pankow</td>\n",
       "      <td>4</td>\n",
       "      <td>1.0</td>\n",
       "      <td>This beautiful first floor apartment  is situa...</td>\n",
       "      <td>52.534996</td>\n",
       "      <td>13.417579</td>\n",
       "      <td>Apartment</td>\n",
       "      <td>1st floor (68m2) apartment on Kollwitzplatz/ P...</td>\n",
       "      <td>t</td>\n",
       "      <td>...</td>\n",
       "      <td>$50.00</td>\n",
       "      <td>$200.00</td>\n",
       "      <td>Real Bed</td>\n",
       "      <td>{Internet,Wifi,Kitchen,\"Buzzer/wireless interc...</td>\n",
       "      <td>720.0</td>\n",
       "      <td>$90.00</td>\n",
       "      <td>t</td>\n",
       "      <td>strict_14_with_grace_period</td>\n",
       "      <td>9.0</td>\n",
       "      <td>143</td>\n",
       "    </tr>\n",
       "    <tr>\n",
       "      <td>3309</td>\n",
       "      <td>Private room</td>\n",
       "      <td>Tempelhof - Schöneberg</td>\n",
       "      <td>2</td>\n",
       "      <td>1.0</td>\n",
       "      <td>First of all: I prefer short-notice bookings. ...</td>\n",
       "      <td>52.498855</td>\n",
       "      <td>13.349065</td>\n",
       "      <td>Apartment</td>\n",
       "      <td>Your room is really big and has 26 sqm, is ver...</td>\n",
       "      <td>t</td>\n",
       "      <td>...</td>\n",
       "      <td>$30.00</td>\n",
       "      <td>$250.00</td>\n",
       "      <td>Pull-out Sofa</td>\n",
       "      <td>{Internet,Wifi,\"Pets allowed\",\"Pets live on th...</td>\n",
       "      <td>0.0</td>\n",
       "      <td>$26.00</td>\n",
       "      <td>f</td>\n",
       "      <td>strict_14_with_grace_period</td>\n",
       "      <td>9.0</td>\n",
       "      <td>25</td>\n",
       "    </tr>\n",
       "    <tr>\n",
       "      <td>7071</td>\n",
       "      <td>Private room</td>\n",
       "      <td>Pankow</td>\n",
       "      <td>2</td>\n",
       "      <td>1.0</td>\n",
       "      <td>Cozy and large room in the beautiful district ...</td>\n",
       "      <td>52.543157</td>\n",
       "      <td>13.415091</td>\n",
       "      <td>Apartment</td>\n",
       "      <td>The BrightRoom is an approx. 20 sqm (215ft²), ...</td>\n",
       "      <td>t</td>\n",
       "      <td>...</td>\n",
       "      <td>$0.00</td>\n",
       "      <td>$0.00</td>\n",
       "      <td>Real Bed</td>\n",
       "      <td>{Wifi,Heating,\"Family/kid friendly\",Essentials...</td>\n",
       "      <td>NaN</td>\n",
       "      <td>$42.00</td>\n",
       "      <td>f</td>\n",
       "      <td>moderate</td>\n",
       "      <td>10.0</td>\n",
       "      <td>197</td>\n",
       "    </tr>\n",
       "  </tbody>\n",
       "</table>\n",
       "<p>5 rows × 25 columns</p>\n",
       "</div>"
      ],
      "text/plain": [
       "            room_type neighbourhood_group_cleansed  accommodates  bathrooms  \\\n",
       "id                                                                            \n",
       "2015  Entire home/apt                        Mitte             3        1.0   \n",
       "2695     Private room                       Pankow             2        1.0   \n",
       "3176  Entire home/apt                       Pankow             4        1.0   \n",
       "3309     Private room       Tempelhof - Schöneberg             2        1.0   \n",
       "7071     Private room                       Pankow             2        1.0   \n",
       "\n",
       "                                            description   latitude  longitude  \\\n",
       "id                                                                              \n",
       "2015  Great location!  30 of 75 sq meters. This wood...  52.534537  13.402557   \n",
       "2695  In the summertime we are spending most of our ...  52.548513  13.404553   \n",
       "3176  This beautiful first floor apartment  is situa...  52.534996  13.417579   \n",
       "3309  First of all: I prefer short-notice bookings. ...  52.498855  13.349065   \n",
       "7071  Cozy and large room in the beautiful district ...  52.543157  13.415091   \n",
       "\n",
       "     property_type                                              space  \\\n",
       "id                                                                      \n",
       "2015    Guesthouse  A+++ location! This „Einliegerwohnung“ is an e...   \n",
       "2695     Apartment  In the summertime we are spending most of our ...   \n",
       "3176     Apartment  1st floor (68m2) apartment on Kollwitzplatz/ P...   \n",
       "3309     Apartment  Your room is really big and has 26 sqm, is ver...   \n",
       "7071     Apartment  The BrightRoom is an approx. 20 sqm (215ft²), ...   \n",
       "\n",
       "     host_has_profile_pic  ...  cleaning_fee security_deposit       bed_type  \\\n",
       "id                         ...                                                 \n",
       "2015                    t  ...        $30.00          $200.00       Real Bed   \n",
       "2695                    t  ...         $0.00            $0.00       Real Bed   \n",
       "3176                    t  ...        $50.00          $200.00       Real Bed   \n",
       "3309                    t  ...        $30.00          $250.00  Pull-out Sofa   \n",
       "7071                    t  ...         $0.00            $0.00       Real Bed   \n",
       "\n",
       "                                              amenities square_feet   price  \\\n",
       "id                                                                            \n",
       "2015  {TV,\"Cable TV\",Wifi,Kitchen,Gym,Heating,\"Famil...         NaN  $60.00   \n",
       "2695  {Wifi,Kitchen,Elevator,Heating,Washer,Essentia...         NaN  $17.00   \n",
       "3176  {Internet,Wifi,Kitchen,\"Buzzer/wireless interc...       720.0  $90.00   \n",
       "3309  {Internet,Wifi,\"Pets allowed\",\"Pets live on th...         0.0  $26.00   \n",
       "7071  {Wifi,Heating,\"Family/kid friendly\",Essentials...         NaN  $42.00   \n",
       "\n",
       "     instant_bookable          cancellation_policy review_scores_accuracy  \\\n",
       "id                                                                          \n",
       "2015                f  strict_14_with_grace_period                   10.0   \n",
       "2695                f                     flexible                   10.0   \n",
       "3176                t  strict_14_with_grace_period                    9.0   \n",
       "3309                f  strict_14_with_grace_period                    9.0   \n",
       "7071                f                     moderate                   10.0   \n",
       "\n",
       "      number_of_reviews  \n",
       "id                       \n",
       "2015                118  \n",
       "2695                  6  \n",
       "3176                143  \n",
       "3309                 25  \n",
       "7071                197  \n",
       "\n",
       "[5 rows x 25 columns]"
      ]
     },
     "execution_count": 23,
     "metadata": {},
     "output_type": "execute_result"
    }
   ],
   "source": [
    "relevant_dataframe.head() #checking sample of dataset"
   ]
  },
  {
   "cell_type": "code",
   "execution_count": 24,
   "metadata": {},
   "outputs": [
    {
     "data": {
      "text/plain": [
       "(22552, 25)"
      ]
     },
     "execution_count": 24,
     "metadata": {},
     "output_type": "execute_result"
    }
   ],
   "source": [
    "relevant_dataframe.shape"
   ]
  },
  {
   "cell_type": "code",
   "execution_count": 25,
   "metadata": {},
   "outputs": [],
   "source": [
    "check_property_type=relevant_dataframe['property_type'].value_counts(normalize=True)"
   ]
  },
  {
   "cell_type": "code",
   "execution_count": 26,
   "metadata": {},
   "outputs": [
    {
     "data": {
      "text/plain": [
       "In-law                    0.000044\n",
       "Island                    0.000044\n",
       "Cave                      0.000044\n",
       "Chalet                    0.000044\n",
       "Tipi                      0.000044\n",
       "Barn                      0.000044\n",
       "Casa particular (Cuba)    0.000089\n",
       "Castle                    0.000089\n",
       "Train                     0.000089\n",
       "Resort                    0.000133\n",
       "Cottage                   0.000177\n",
       "Cabin                     0.000266\n",
       "Aparthotel                0.000310\n",
       "Pension (South Korea)     0.000310\n",
       "Villa                     0.000443\n",
       "Camper/RV                 0.000488\n",
       "Houseboat                 0.000488\n",
       "Tiny house                0.000532\n",
       "Boat                      0.000754\n",
       "Bungalow                  0.000887\n",
       "Boutique hotel            0.001907\n",
       "Other                     0.002084\n",
       "Hotel                     0.002217\n",
       "Guesthouse                0.002527\n",
       "Bed and breakfast         0.002838\n",
       "Guest suite               0.003281\n",
       "Townhouse                 0.004390\n",
       "Hostel                    0.005676\n",
       "Serviced apartment        0.007760\n",
       "House                     0.017648\n",
       "Loft                      0.020397\n",
       "Condominium               0.027137\n",
       "Apartment                 0.896816\n",
       "Name: property_type, dtype: float64"
      ]
     },
     "execution_count": 26,
     "metadata": {},
     "output_type": "execute_result"
    }
   ],
   "source": [
    "#checking property and its listings\n",
    "check_property_type.sort_values(ascending=True)  #checking the property types in listings"
   ]
  },
  {
   "cell_type": "code",
   "execution_count": 27,
   "metadata": {},
   "outputs": [],
   "source": [
    "check_room_type=relevant_dataframe['room_type'].value_counts(normalize=True)"
   ]
  },
  {
   "cell_type": "code",
   "execution_count": 28,
   "metadata": {},
   "outputs": [
    {
     "data": {
      "text/plain": [
       "Shared room        0.013125\n",
       "Entire home/apt    0.475435\n",
       "Private room       0.511440\n",
       "Name: room_type, dtype: float64"
      ]
     },
     "execution_count": 28,
     "metadata": {},
     "output_type": "execute_result"
    }
   ],
   "source": [
    "check_room_type.sort_values(ascending=True) "
   ]
  },
  {
   "cell_type": "markdown",
   "metadata": {},
   "source": [
    "<h2> Checking all types of pricings</h2>"
   ]
  },
  {
   "cell_type": "code",
   "execution_count": 29,
   "metadata": {},
   "outputs": [],
   "source": [
    "dataframe_pricings=relevant_dataframe[['security_deposit', 'extra_people','cleaning_fee', 'price' ]] #combining all types of pricing listings"
   ]
  },
  {
   "cell_type": "code",
   "execution_count": 30,
   "metadata": {},
   "outputs": [
    {
     "data": {
      "text/html": [
       "<div>\n",
       "<style scoped>\n",
       "    .dataframe tbody tr th:only-of-type {\n",
       "        vertical-align: middle;\n",
       "    }\n",
       "\n",
       "    .dataframe tbody tr th {\n",
       "        vertical-align: top;\n",
       "    }\n",
       "\n",
       "    .dataframe thead th {\n",
       "        text-align: right;\n",
       "    }\n",
       "</style>\n",
       "<table border=\"1\" class=\"dataframe\">\n",
       "  <thead>\n",
       "    <tr style=\"text-align: right;\">\n",
       "      <th></th>\n",
       "      <th>security_deposit</th>\n",
       "      <th>extra_people</th>\n",
       "      <th>cleaning_fee</th>\n",
       "      <th>price</th>\n",
       "    </tr>\n",
       "    <tr>\n",
       "      <th>id</th>\n",
       "      <th></th>\n",
       "      <th></th>\n",
       "      <th></th>\n",
       "      <th></th>\n",
       "    </tr>\n",
       "  </thead>\n",
       "  <tbody>\n",
       "    <tr>\n",
       "      <td>2015</td>\n",
       "      <td>$200.00</td>\n",
       "      <td>$28.00</td>\n",
       "      <td>$30.00</td>\n",
       "      <td>$60.00</td>\n",
       "    </tr>\n",
       "    <tr>\n",
       "      <td>2695</td>\n",
       "      <td>$0.00</td>\n",
       "      <td>$0.00</td>\n",
       "      <td>$0.00</td>\n",
       "      <td>$17.00</td>\n",
       "    </tr>\n",
       "    <tr>\n",
       "      <td>3176</td>\n",
       "      <td>$200.00</td>\n",
       "      <td>$20.00</td>\n",
       "      <td>$50.00</td>\n",
       "      <td>$90.00</td>\n",
       "    </tr>\n",
       "    <tr>\n",
       "      <td>3309</td>\n",
       "      <td>$250.00</td>\n",
       "      <td>$18.00</td>\n",
       "      <td>$30.00</td>\n",
       "      <td>$26.00</td>\n",
       "    </tr>\n",
       "    <tr>\n",
       "      <td>7071</td>\n",
       "      <td>$0.00</td>\n",
       "      <td>$24.00</td>\n",
       "      <td>$0.00</td>\n",
       "      <td>$42.00</td>\n",
       "    </tr>\n",
       "  </tbody>\n",
       "</table>\n",
       "</div>"
      ],
      "text/plain": [
       "     security_deposit extra_people cleaning_fee   price\n",
       "id                                                     \n",
       "2015          $200.00       $28.00       $30.00  $60.00\n",
       "2695            $0.00        $0.00        $0.00  $17.00\n",
       "3176          $200.00       $20.00       $50.00  $90.00\n",
       "3309          $250.00       $18.00       $30.00  $26.00\n",
       "7071            $0.00       $24.00        $0.00  $42.00"
      ]
     },
     "execution_count": 30,
     "metadata": {},
     "output_type": "execute_result"
    }
   ],
   "source": [
    "dataframe_pricings.head() #checking for all types of pricings listings"
   ]
  },
  {
   "cell_type": "code",
   "execution_count": 31,
   "metadata": {},
   "outputs": [
    {
     "data": {
      "text/plain": [
       "cleaning_fee    7146\n",
       "dtype: int64"
      ]
     },
     "execution_count": 31,
     "metadata": {},
     "output_type": "execute_result"
    }
   ],
   "source": [
    "relevant_dataframe[['cleaning_fee']].isnull().sum() #checking null values for cleaning fee"
   ]
  },
  {
   "cell_type": "code",
   "execution_count": 32,
   "metadata": {},
   "outputs": [
    {
     "data": {
      "text/plain": [
       "0"
      ]
     },
     "execution_count": 32,
     "metadata": {},
     "output_type": "execute_result"
    }
   ],
   "source": [
    "relevant_dataframe['cleaning_fee'].fillna('$0.00', inplace=True)#imputing null values with 0\n",
    "relevant_dataframe['cleaning_fee'].isnull().sum()#checking null values in cleaning fee"
   ]
  },
  {
   "cell_type": "code",
   "execution_count": 33,
   "metadata": {},
   "outputs": [
    {
     "data": {
      "text/plain": [
       "security_deposit    9361\n",
       "dtype: int64"
      ]
     },
     "execution_count": 33,
     "metadata": {},
     "output_type": "execute_result"
    }
   ],
   "source": [
    "relevant_dataframe[['security_deposit']].isnull().sum()#checking null values for security deposit"
   ]
  },
  {
   "cell_type": "code",
   "execution_count": 34,
   "metadata": {},
   "outputs": [
    {
     "data": {
      "text/plain": [
       "0"
      ]
     },
     "execution_count": 34,
     "metadata": {},
     "output_type": "execute_result"
    }
   ],
   "source": [
    "relevant_dataframe['security_deposit'].fillna('$0.00', inplace=True) #imputing null values with 0\n",
    "relevant_dataframe['security_deposit'].isnull().sum() #checking null values in security deposit after imputing"
   ]
  },
  {
   "cell_type": "code",
   "execution_count": 35,
   "metadata": {},
   "outputs": [
    {
     "data": {
      "text/plain": [
       "0"
      ]
     },
     "execution_count": 35,
     "metadata": {},
     "output_type": "execute_result"
    }
   ],
   "source": [
    "relevant_dataframe['extra_people'].isnull().sum() #checking null values in extra people column"
   ]
  },
  {
   "cell_type": "code",
   "execution_count": 36,
   "metadata": {},
   "outputs": [
    {
     "data": {
      "text/plain": [
       "price    0\n",
       "dtype: int64"
      ]
     },
     "execution_count": 36,
     "metadata": {},
     "output_type": "execute_result"
    }
   ],
   "source": [
    "relevant_dataframe[['price']].isnull().sum() #checking null values in price column"
   ]
  },
  {
   "cell_type": "code",
   "execution_count": 37,
   "metadata": {},
   "outputs": [],
   "source": [
    "# cleaning the columns containing all sort of prices\n",
    "relevant_dataframe.cleaning_fee = relevant_dataframe.cleaning_fee.str.replace('$', '').str.replace(',', '').astype(float)\n",
    "relevant_dataframe.security_deposit = relevant_dataframe.security_deposit.str.replace('$', '').str.replace(',', '').astype(float)\n",
    "relevant_dataframe.extra_people = relevant_dataframe.extra_people.str.replace('$', '').str.replace(',', '').astype(float)\n",
    "relevant_dataframe.price = relevant_dataframe.price.str.replace('$', '').str.replace(',', '').astype(float)"
   ]
  },
  {
   "cell_type": "code",
   "execution_count": 38,
   "metadata": {},
   "outputs": [
    {
     "data": {
      "text/plain": [
       "count    22552.000000\n",
       "mean        67.143668\n",
       "std        220.266210\n",
       "min          0.000000\n",
       "25%         30.000000\n",
       "50%         45.000000\n",
       "75%         70.000000\n",
       "max       9000.000000\n",
       "Name: price, dtype: float64"
      ]
     },
     "execution_count": 38,
     "metadata": {},
     "output_type": "execute_result"
    }
   ],
   "source": [
    "relevant_dataframe['price'].describe()"
   ]
  },
  {
   "cell_type": "code",
   "execution_count": 39,
   "metadata": {},
   "outputs": [
    {
     "data": {
      "text/plain": [
       "<matplotlib.axes._subplots.AxesSubplot at 0x1a21d8e3d0>"
      ]
     },
     "execution_count": 39,
     "metadata": {},
     "output_type": "execute_result"
    },
    {
     "data": {
      "image/png": "[encoded data removed]",
      "text/plain": [
       "<Figure size 72x360 with 1 Axes>"
      ]
     },
     "metadata": {},
     "output_type": "display_data"
    }
   ],
   "source": [
    "blue_color = dict(markerfacecolor='b', markeredgecolor='b', marker='.')  ## to manipulate and chamge the code\n",
    "relevant_dataframe['price'].plot(kind='box', ylim=(0, 1000), vert=True, flierprops=blue_color, figsize=(1,5))"
   ]
  },
  {
   "cell_type": "code",
   "execution_count": 40,
   "metadata": {},
   "outputs": [],
   "source": [
    "relevant_dataframe.drop(relevant_dataframe[(relevant_dataframe.price > 500) | (relevant_dataframe.price == 0) ].index, axis=0, inplace=True)"
   ]
  },
  {
   "cell_type": "code",
   "execution_count": 41,
   "metadata": {},
   "outputs": [
    {
     "data": {
      "text/plain": [
       "count    22470.000000\n",
       "mean        58.117980\n",
       "std         44.687913\n",
       "min          1.000000\n",
       "25%         30.000000\n",
       "50%         45.000000\n",
       "75%         70.000000\n",
       "max        500.000000\n",
       "Name: price, dtype: float64"
      ]
     },
     "execution_count": 41,
     "metadata": {},
     "output_type": "execute_result"
    }
   ],
   "source": [
    "relevant_dataframe['price'].describe()"
   ]
  },
  {
   "cell_type": "code",
   "execution_count": 42,
   "metadata": {},
   "outputs": [
    {
     "data": {
      "text/plain": [
       "(22470, 25)"
      ]
     },
     "execution_count": 42,
     "metadata": {},
     "output_type": "execute_result"
    }
   ],
   "source": [
    "relevant_dataframe.shape"
   ]
  },
  {
   "cell_type": "code",
   "execution_count": 43,
   "metadata": {},
   "outputs": [
    {
     "data": {
      "text/plain": [
       "room_type                           0\n",
       "neighbourhood_group_cleansed        0\n",
       "accommodates                        0\n",
       "bathrooms                          32\n",
       "description                       202\n",
       "latitude                            0\n",
       "longitude                           0\n",
       "property_type                       0\n",
       "space                            8515\n",
       "host_has_profile_pic               25\n",
       "bedrooms                           18\n",
       "extra_people                        0\n",
       "guests_included                     0\n",
       "minimum_nights                      0\n",
       "is_business_travel_ready            0\n",
       "cleaning_fee                        0\n",
       "security_deposit                    0\n",
       "bed_type                            0\n",
       "amenities                           0\n",
       "square_feet                     22024\n",
       "price                               0\n",
       "instant_bookable                    0\n",
       "cancellation_policy                 0\n",
       "review_scores_accuracy           4372\n",
       "number_of_reviews                   0\n",
       "dtype: int64"
      ]
     },
     "execution_count": 43,
     "metadata": {},
     "output_type": "execute_result"
    }
   ],
   "source": [
    "relevant_dataframe.isnull().sum()"
   ]
  },
  {
   "cell_type": "code",
   "execution_count": 44,
   "metadata": {},
   "outputs": [],
   "source": [
    "relevant_dataframe.drop(['space', 'square_feet'], inplace=True, axis=1)"
   ]
  },
  {
   "cell_type": "code",
   "execution_count": 45,
   "metadata": {},
   "outputs": [],
   "source": [
    "relevant_dataframe.dropna(subset=['bedrooms', 'bathrooms','review_scores_accuracy' ], inplace=True)"
   ]
  },
  {
   "cell_type": "code",
   "execution_count": 46,
   "metadata": {},
   "outputs": [],
   "source": [
    "#relevant_dataframe.dropna(subset=['review_scores_rating'], inplace=True)"
   ]
  },
  {
   "cell_type": "code",
   "execution_count": 47,
   "metadata": {},
   "outputs": [
    {
     "data": {
      "text/plain": [
       "['t', nan, 'f']"
      ]
     },
     "execution_count": 47,
     "metadata": {},
     "output_type": "execute_result"
    }
   ],
   "source": [
    "relevant_dataframe.host_has_profile_pic.unique().tolist()"
   ]
  },
  {
   "cell_type": "code",
   "execution_count": 48,
   "metadata": {},
   "outputs": [],
   "source": [
    "relevant_dataframe.host_has_profile_pic.fillna(value='f', inplace=True)"
   ]
  },
  {
   "cell_type": "code",
   "execution_count": 49,
   "metadata": {},
   "outputs": [
    {
     "data": {
      "text/plain": [
       "['t', 'f']"
      ]
     },
     "execution_count": 49,
     "metadata": {},
     "output_type": "execute_result"
    }
   ],
   "source": [
    "relevant_dataframe.host_has_profile_pic.unique().tolist()"
   ]
  },
  {
   "cell_type": "code",
   "execution_count": 50,
   "metadata": {},
   "outputs": [
    {
     "data": {
      "text/plain": [
       "(18064, 23)"
      ]
     },
     "execution_count": 50,
     "metadata": {},
     "output_type": "execute_result"
    }
   ],
   "source": [
    "relevant_dataframe.shape"
   ]
  },
  {
   "cell_type": "code",
   "execution_count": 51,
   "metadata": {},
   "outputs": [
    {
     "data": {
      "text/plain": [
       "room_type                         0\n",
       "neighbourhood_group_cleansed      0\n",
       "accommodates                      0\n",
       "bathrooms                         0\n",
       "description                     128\n",
       "latitude                          0\n",
       "longitude                         0\n",
       "property_type                     0\n",
       "host_has_profile_pic              0\n",
       "bedrooms                          0\n",
       "extra_people                      0\n",
       "guests_included                   0\n",
       "minimum_nights                    0\n",
       "is_business_travel_ready          0\n",
       "cleaning_fee                      0\n",
       "security_deposit                  0\n",
       "bed_type                          0\n",
       "amenities                         0\n",
       "price                             0\n",
       "instant_bookable                  0\n",
       "cancellation_policy               0\n",
       "review_scores_accuracy            0\n",
       "number_of_reviews                 0\n",
       "dtype: int64"
      ]
     },
     "execution_count": 51,
     "metadata": {},
     "output_type": "execute_result"
    }
   ],
   "source": [
    "relevant_dataframe.isnull().sum()"
   ]
  },
  {
   "cell_type": "markdown",
   "metadata": {},
   "source": [
    "<h1> Feature Engineering </h1>"
   ]
  },
  {
   "cell_type": "markdown",
   "metadata": {},
   "source": [
    "<h3> Calculating Distance </h3>"
   ]
  },
  {
   "cell_type": "code",
   "execution_count": 52,
   "metadata": {},
   "outputs": [],
   "source": [
    "def distance_to_mid_berlin(latitude_point, longitude_point):\n",
    "    center_of_berlin = (52.520008, 13.404954)\n",
    "    accommodation_points = (latitude_point, longitude_point)\n",
    "    return vincenty(center_of_berlin, accommodation_points).km"
   ]
  },
  {
   "cell_type": "code",
   "execution_count": 53,
   "metadata": {},
   "outputs": [
    {
     "name": "stderr",
     "output_type": "stream",
     "text": [
      "/Users/mac/opt/anaconda3/lib/python3.7/site-packages/ipykernel_launcher.py:4: DeprecationWarning: Vincenty is deprecated and is going to be removed in geopy 2.0. Use `geopy.distance.geodesic` (or the default `geopy.distance.distance`) instead, which is more accurate and always converges.\n",
      "  after removing the cwd from sys.path.\n"
     ]
    }
   ],
   "source": [
    "relevant_dataframe['distance_from_center'] = relevant_dataframe.apply(lambda x: distance_to_mid_berlin(x.latitude, x.longitude), axis=1)"
   ]
  },
  {
   "cell_type": "code",
   "execution_count": 54,
   "metadata": {},
   "outputs": [
    {
     "data": {
      "text/html": [
       "<div>\n",
       "<style scoped>\n",
       "    .dataframe tbody tr th:only-of-type {\n",
       "        vertical-align: middle;\n",
       "    }\n",
       "\n",
       "    .dataframe tbody tr th {\n",
       "        vertical-align: top;\n",
       "    }\n",
       "\n",
       "    .dataframe thead th {\n",
       "        text-align: right;\n",
       "    }\n",
       "</style>\n",
       "<table border=\"1\" class=\"dataframe\">\n",
       "  <thead>\n",
       "    <tr style=\"text-align: right;\">\n",
       "      <th></th>\n",
       "      <th>room_type</th>\n",
       "      <th>neighbourhood_group_cleansed</th>\n",
       "      <th>accommodates</th>\n",
       "      <th>bathrooms</th>\n",
       "      <th>description</th>\n",
       "      <th>latitude</th>\n",
       "      <th>longitude</th>\n",
       "      <th>property_type</th>\n",
       "      <th>host_has_profile_pic</th>\n",
       "      <th>bedrooms</th>\n",
       "      <th>...</th>\n",
       "      <th>cleaning_fee</th>\n",
       "      <th>security_deposit</th>\n",
       "      <th>bed_type</th>\n",
       "      <th>amenities</th>\n",
       "      <th>price</th>\n",
       "      <th>instant_bookable</th>\n",
       "      <th>cancellation_policy</th>\n",
       "      <th>review_scores_accuracy</th>\n",
       "      <th>number_of_reviews</th>\n",
       "      <th>distance_from_center</th>\n",
       "    </tr>\n",
       "    <tr>\n",
       "      <th>id</th>\n",
       "      <th></th>\n",
       "      <th></th>\n",
       "      <th></th>\n",
       "      <th></th>\n",
       "      <th></th>\n",
       "      <th></th>\n",
       "      <th></th>\n",
       "      <th></th>\n",
       "      <th></th>\n",
       "      <th></th>\n",
       "      <th></th>\n",
       "      <th></th>\n",
       "      <th></th>\n",
       "      <th></th>\n",
       "      <th></th>\n",
       "      <th></th>\n",
       "      <th></th>\n",
       "      <th></th>\n",
       "      <th></th>\n",
       "      <th></th>\n",
       "      <th></th>\n",
       "    </tr>\n",
       "  </thead>\n",
       "  <tbody>\n",
       "    <tr>\n",
       "      <td>2015</td>\n",
       "      <td>Entire home/apt</td>\n",
       "      <td>Mitte</td>\n",
       "      <td>3</td>\n",
       "      <td>1.0</td>\n",
       "      <td>Great location!  30 of 75 sq meters. This wood...</td>\n",
       "      <td>52.534537</td>\n",
       "      <td>13.402557</td>\n",
       "      <td>Guesthouse</td>\n",
       "      <td>t</td>\n",
       "      <td>1.0</td>\n",
       "      <td>...</td>\n",
       "      <td>30.0</td>\n",
       "      <td>200.0</td>\n",
       "      <td>Real Bed</td>\n",
       "      <td>{TV,\"Cable TV\",Wifi,Kitchen,Gym,Heating,\"Famil...</td>\n",
       "      <td>60.0</td>\n",
       "      <td>f</td>\n",
       "      <td>strict_14_with_grace_period</td>\n",
       "      <td>10.0</td>\n",
       "      <td>118</td>\n",
       "      <td>1.624949</td>\n",
       "    </tr>\n",
       "    <tr>\n",
       "      <td>2695</td>\n",
       "      <td>Private room</td>\n",
       "      <td>Pankow</td>\n",
       "      <td>2</td>\n",
       "      <td>1.0</td>\n",
       "      <td>In the summertime we are spending most of our ...</td>\n",
       "      <td>52.548513</td>\n",
       "      <td>13.404553</td>\n",
       "      <td>Apartment</td>\n",
       "      <td>t</td>\n",
       "      <td>1.0</td>\n",
       "      <td>...</td>\n",
       "      <td>0.0</td>\n",
       "      <td>0.0</td>\n",
       "      <td>Real Bed</td>\n",
       "      <td>{Wifi,Kitchen,Elevator,Heating,Washer,Essentia...</td>\n",
       "      <td>17.0</td>\n",
       "      <td>f</td>\n",
       "      <td>flexible</td>\n",
       "      <td>10.0</td>\n",
       "      <td>6</td>\n",
       "      <td>3.172058</td>\n",
       "    </tr>\n",
       "    <tr>\n",
       "      <td>3176</td>\n",
       "      <td>Entire home/apt</td>\n",
       "      <td>Pankow</td>\n",
       "      <td>4</td>\n",
       "      <td>1.0</td>\n",
       "      <td>This beautiful first floor apartment  is situa...</td>\n",
       "      <td>52.534996</td>\n",
       "      <td>13.417579</td>\n",
       "      <td>Apartment</td>\n",
       "      <td>t</td>\n",
       "      <td>1.0</td>\n",
       "      <td>...</td>\n",
       "      <td>50.0</td>\n",
       "      <td>200.0</td>\n",
       "      <td>Real Bed</td>\n",
       "      <td>{Internet,Wifi,Kitchen,\"Buzzer/wireless interc...</td>\n",
       "      <td>90.0</td>\n",
       "      <td>t</td>\n",
       "      <td>strict_14_with_grace_period</td>\n",
       "      <td>9.0</td>\n",
       "      <td>143</td>\n",
       "      <td>1.875055</td>\n",
       "    </tr>\n",
       "    <tr>\n",
       "      <td>3309</td>\n",
       "      <td>Private room</td>\n",
       "      <td>Tempelhof - Schöneberg</td>\n",
       "      <td>2</td>\n",
       "      <td>1.0</td>\n",
       "      <td>First of all: I prefer short-notice bookings. ...</td>\n",
       "      <td>52.498855</td>\n",
       "      <td>13.349065</td>\n",
       "      <td>Apartment</td>\n",
       "      <td>t</td>\n",
       "      <td>1.0</td>\n",
       "      <td>...</td>\n",
       "      <td>30.0</td>\n",
       "      <td>250.0</td>\n",
       "      <td>Pull-out Sofa</td>\n",
       "      <td>{Internet,Wifi,\"Pets allowed\",\"Pets live on th...</td>\n",
       "      <td>26.0</td>\n",
       "      <td>f</td>\n",
       "      <td>strict_14_with_grace_period</td>\n",
       "      <td>9.0</td>\n",
       "      <td>25</td>\n",
       "      <td>4.465424</td>\n",
       "    </tr>\n",
       "    <tr>\n",
       "      <td>7071</td>\n",
       "      <td>Private room</td>\n",
       "      <td>Pankow</td>\n",
       "      <td>2</td>\n",
       "      <td>1.0</td>\n",
       "      <td>Cozy and large room in the beautiful district ...</td>\n",
       "      <td>52.543157</td>\n",
       "      <td>13.415091</td>\n",
       "      <td>Apartment</td>\n",
       "      <td>t</td>\n",
       "      <td>1.0</td>\n",
       "      <td>...</td>\n",
       "      <td>0.0</td>\n",
       "      <td>0.0</td>\n",
       "      <td>Real Bed</td>\n",
       "      <td>{Wifi,Heating,\"Family/kid friendly\",Essentials...</td>\n",
       "      <td>42.0</td>\n",
       "      <td>f</td>\n",
       "      <td>moderate</td>\n",
       "      <td>10.0</td>\n",
       "      <td>197</td>\n",
       "      <td>2.666263</td>\n",
       "    </tr>\n",
       "  </tbody>\n",
       "</table>\n",
       "<p>5 rows × 24 columns</p>\n",
       "</div>"
      ],
      "text/plain": [
       "            room_type neighbourhood_group_cleansed  accommodates  bathrooms  \\\n",
       "id                                                                            \n",
       "2015  Entire home/apt                        Mitte             3        1.0   \n",
       "2695     Private room                       Pankow             2        1.0   \n",
       "3176  Entire home/apt                       Pankow             4        1.0   \n",
       "3309     Private room       Tempelhof - Schöneberg             2        1.0   \n",
       "7071     Private room                       Pankow             2        1.0   \n",
       "\n",
       "                                            description   latitude  longitude  \\\n",
       "id                                                                              \n",
       "2015  Great location!  30 of 75 sq meters. This wood...  52.534537  13.402557   \n",
       "2695  In the summertime we are spending most of our ...  52.548513  13.404553   \n",
       "3176  This beautiful first floor apartment  is situa...  52.534996  13.417579   \n",
       "3309  First of all: I prefer short-notice bookings. ...  52.498855  13.349065   \n",
       "7071  Cozy and large room in the beautiful district ...  52.543157  13.415091   \n",
       "\n",
       "     property_type host_has_profile_pic  bedrooms  ...  cleaning_fee  \\\n",
       "id                                                 ...                 \n",
       "2015    Guesthouse                    t       1.0  ...          30.0   \n",
       "2695     Apartment                    t       1.0  ...           0.0   \n",
       "3176     Apartment                    t       1.0  ...          50.0   \n",
       "3309     Apartment                    t       1.0  ...          30.0   \n",
       "7071     Apartment                    t       1.0  ...           0.0   \n",
       "\n",
       "      security_deposit       bed_type  \\\n",
       "id                                      \n",
       "2015             200.0       Real Bed   \n",
       "2695               0.0       Real Bed   \n",
       "3176             200.0       Real Bed   \n",
       "3309             250.0  Pull-out Sofa   \n",
       "7071               0.0       Real Bed   \n",
       "\n",
       "                                              amenities  price  \\\n",
       "id                                                               \n",
       "2015  {TV,\"Cable TV\",Wifi,Kitchen,Gym,Heating,\"Famil...   60.0   \n",
       "2695  {Wifi,Kitchen,Elevator,Heating,Washer,Essentia...   17.0   \n",
       "3176  {Internet,Wifi,Kitchen,\"Buzzer/wireless interc...   90.0   \n",
       "3309  {Internet,Wifi,\"Pets allowed\",\"Pets live on th...   26.0   \n",
       "7071  {Wifi,Heating,\"Family/kid friendly\",Essentials...   42.0   \n",
       "\n",
       "      instant_bookable          cancellation_policy review_scores_accuracy  \\\n",
       "id                                                                           \n",
       "2015                 f  strict_14_with_grace_period                   10.0   \n",
       "2695                 f                     flexible                   10.0   \n",
       "3176                 t  strict_14_with_grace_period                    9.0   \n",
       "3309                 f  strict_14_with_grace_period                    9.0   \n",
       "7071                 f                     moderate                   10.0   \n",
       "\n",
       "      number_of_reviews distance_from_center  \n",
       "id                                            \n",
       "2015                118             1.624949  \n",
       "2695                  6             3.172058  \n",
       "3176                143             1.875055  \n",
       "3309                 25             4.465424  \n",
       "7071                197             2.666263  \n",
       "\n",
       "[5 rows x 24 columns]"
      ]
     },
     "execution_count": 54,
     "metadata": {},
     "output_type": "execute_result"
    }
   ],
   "source": [
    "relevant_dataframe.head()"
   ]
  },
  {
   "cell_type": "markdown",
   "metadata": {},
   "source": [
    "<h1> Calculating Size of the location </h1>"
   ]
  },
  {
   "cell_type": "code",
   "execution_count": 55,
   "metadata": {},
   "outputs": [
    {
     "data": {
      "text/plain": [
       "128"
      ]
     },
     "execution_count": 55,
     "metadata": {},
     "output_type": "execute_result"
    }
   ],
   "source": [
    "relevant_dataframe['description'].isna().sum()"
   ]
  },
  {
   "cell_type": "code",
   "execution_count": 56,
   "metadata": {},
   "outputs": [],
   "source": [
    "relevant_dataframe['size_of_location'] = relevant_dataframe['description'].str.extract('(\\d{2,3}\\s?[smSM])', expand=True)\n",
    "relevant_dataframe['size_of_location'] = relevant_dataframe['size_of_location'].str.replace(\"\\D\", \"\")\n",
    "\n",
    "relevant_dataframe['size_of_location'] = relevant_dataframe['size_of_location'].astype(float)"
   ]
  },
  {
   "cell_type": "code",
   "execution_count": 57,
   "metadata": {},
   "outputs": [
    {
     "data": {
      "text/plain": [
       "9135"
      ]
     },
     "execution_count": 57,
     "metadata": {},
     "output_type": "execute_result"
    }
   ],
   "source": [
    "relevant_dataframe['size_of_location'].isna().sum()"
   ]
  },
  {
   "cell_type": "code",
   "execution_count": 58,
   "metadata": {},
   "outputs": [
    {
     "data": {
      "text/plain": [
       "0.51"
      ]
     },
     "execution_count": 58,
     "metadata": {},
     "output_type": "execute_result"
    }
   ],
   "source": [
    "round(relevant_dataframe['size_of_location'].isna().sum()/len(relevant_dataframe),2)"
   ]
  },
  {
   "cell_type": "code",
   "execution_count": 59,
   "metadata": {},
   "outputs": [],
   "source": [
    "relevant_dataframe.drop(['description'], axis=1, inplace=True)"
   ]
  },
  {
   "cell_type": "markdown",
   "metadata": {},
   "source": [
    "<h2> Predicting Missing Values of Size attribute </h2>"
   ]
  },
  {
   "cell_type": "code",
   "execution_count": 60,
   "metadata": {},
   "outputs": [
    {
     "name": "stdout",
     "output_type": "stream",
     "text": [
      "<class 'pandas.core.frame.DataFrame'>\n",
      "Int64Index: 18064 entries, 2015 to 29740105\n",
      "Data columns (total 24 columns):\n",
      "room_type                       18064 non-null object\n",
      "neighbourhood_group_cleansed    18064 non-null object\n",
      "accommodates                    18064 non-null int64\n",
      "bathrooms                       18064 non-null float64\n",
      "latitude                        18064 non-null float64\n",
      "longitude                       18064 non-null float64\n",
      "property_type                   18064 non-null object\n",
      "host_has_profile_pic            18064 non-null object\n",
      "bedrooms                        18064 non-null float64\n",
      "extra_people                    18064 non-null float64\n",
      "guests_included                 18064 non-null int64\n",
      "minimum_nights                  18064 non-null int64\n",
      "is_business_travel_ready        18064 non-null object\n",
      "cleaning_fee                    18064 non-null float64\n",
      "security_deposit                18064 non-null float64\n",
      "bed_type                        18064 non-null object\n",
      "amenities                       18064 non-null object\n",
      "price                           18064 non-null float64\n",
      "instant_bookable                18064 non-null object\n",
      "cancellation_policy             18064 non-null object\n",
      "review_scores_accuracy          18064 non-null float64\n",
      "number_of_reviews               18064 non-null int64\n",
      "distance_from_center            18064 non-null float64\n",
      "size_of_location                8929 non-null float64\n",
      "dtypes: float64(11), int64(4), object(9)\n",
      "memory usage: 3.4+ MB\n"
     ]
    }
   ],
   "source": [
    "relevant_dataframe.info()"
   ]
  },
  {
   "cell_type": "code",
   "execution_count": 61,
   "metadata": {},
   "outputs": [],
   "source": [
    "reduced_dataframe = relevant_dataframe[['size_of_location','distance_from_center','security_deposit','guests_included',  \n",
    "                                        'cleaning_fee', 'price', \n",
    "                                         'extra_people', 'bedrooms', 'accommodates', 'bathrooms']]"
   ]
  },
  {
   "cell_type": "code",
   "execution_count": 62,
   "metadata": {},
   "outputs": [],
   "source": [
    "size_train_data = reduced_dataframe[reduced_dataframe['size_of_location'].notnull()]\n",
    "size_test_data  = reduced_dataframe[reduced_dataframe['size_of_location'].isnull()]"
   ]
  },
  {
   "cell_type": "code",
   "execution_count": 63,
   "metadata": {},
   "outputs": [],
   "source": [
    "size_X_train = size_train_data.drop('size_of_location', axis=1)\n",
    "size_X_test  = size_test_data.drop('size_of_location', axis=1)"
   ]
  },
  {
   "cell_type": "code",
   "execution_count": 64,
   "metadata": {},
   "outputs": [],
   "source": [
    "size_y_train = size_train_data['size_of_location']"
   ]
  },
  {
   "cell_type": "code",
   "execution_count": 65,
   "metadata": {},
   "outputs": [
    {
     "data": {
      "text/plain": [
       "(8929, 10)"
      ]
     },
     "execution_count": 65,
     "metadata": {},
     "output_type": "execute_result"
    }
   ],
   "source": [
    "size_train_data.shape"
   ]
  },
  {
   "cell_type": "code",
   "execution_count": 66,
   "metadata": {},
   "outputs": [
    {
     "data": {
      "text/plain": [
       "(9135, 10)"
      ]
     },
     "execution_count": 66,
     "metadata": {},
     "output_type": "execute_result"
    }
   ],
   "source": [
    "size_test_data.shape"
   ]
  },
  {
   "cell_type": "code",
   "execution_count": 67,
   "metadata": {},
   "outputs": [
    {
     "data": {
      "text/plain": [
       "(8929, 9)"
      ]
     },
     "execution_count": 67,
     "metadata": {},
     "output_type": "execute_result"
    }
   ],
   "source": [
    "size_X_train.shape"
   ]
  },
  {
   "cell_type": "code",
   "execution_count": 68,
   "metadata": {},
   "outputs": [
    {
     "data": {
      "text/plain": [
       "(9135, 9)"
      ]
     },
     "execution_count": 68,
     "metadata": {},
     "output_type": "execute_result"
    }
   ],
   "source": [
    "size_X_test.shape"
   ]
  },
  {
   "cell_type": "code",
   "execution_count": 69,
   "metadata": {},
   "outputs": [
    {
     "data": {
      "text/plain": [
       "(8929,)"
      ]
     },
     "execution_count": 69,
     "metadata": {},
     "output_type": "execute_result"
    }
   ],
   "source": [
    "size_y_train.shape"
   ]
  },
  {
   "cell_type": "code",
   "execution_count": 70,
   "metadata": {},
   "outputs": [],
   "source": [
    "size_X_test_copy=size_X_test"
   ]
  },
  {
   "cell_type": "code",
   "execution_count": 71,
   "metadata": {},
   "outputs": [],
   "source": [
    "from sklearn.linear_model import LinearRegression\n",
    "\n",
    "lreg = LinearRegression()\n",
    "\n",
    "lreg.fit(size_X_train, size_y_train)\n",
    "y_test_size_output = lreg.predict(size_X_test)"
   ]
  },
  {
   "cell_type": "code",
   "execution_count": 72,
   "metadata": {},
   "outputs": [],
   "source": [
    "y_test_size_output = pd.DataFrame(y_test_size_output)\n",
    "y_test_size_output.columns = ['size_of_location']"
   ]
  },
  {
   "cell_type": "code",
   "execution_count": 73,
   "metadata": {},
   "outputs": [
    {
     "data": {
      "text/html": [
       "<div>\n",
       "<style scoped>\n",
       "    .dataframe tbody tr th:only-of-type {\n",
       "        vertical-align: middle;\n",
       "    }\n",
       "\n",
       "    .dataframe tbody tr th {\n",
       "        vertical-align: top;\n",
       "    }\n",
       "\n",
       "    .dataframe thead th {\n",
       "        text-align: right;\n",
       "    }\n",
       "</style>\n",
       "<table border=\"1\" class=\"dataframe\">\n",
       "  <thead>\n",
       "    <tr style=\"text-align: right;\">\n",
       "      <th></th>\n",
       "      <th>size_of_location</th>\n",
       "    </tr>\n",
       "  </thead>\n",
       "  <tbody>\n",
       "    <tr>\n",
       "      <td>0</td>\n",
       "      <td>58.495580</td>\n",
       "    </tr>\n",
       "    <tr>\n",
       "      <td>1</td>\n",
       "      <td>96.688950</td>\n",
       "    </tr>\n",
       "    <tr>\n",
       "      <td>2</td>\n",
       "      <td>77.024951</td>\n",
       "    </tr>\n",
       "    <tr>\n",
       "      <td>3</td>\n",
       "      <td>87.224892</td>\n",
       "    </tr>\n",
       "    <tr>\n",
       "      <td>4</td>\n",
       "      <td>67.901160</td>\n",
       "    </tr>\n",
       "    <tr>\n",
       "      <td>5</td>\n",
       "      <td>54.745429</td>\n",
       "    </tr>\n",
       "    <tr>\n",
       "      <td>6</td>\n",
       "      <td>64.840779</td>\n",
       "    </tr>\n",
       "    <tr>\n",
       "      <td>7</td>\n",
       "      <td>52.796577</td>\n",
       "    </tr>\n",
       "    <tr>\n",
       "      <td>8</td>\n",
       "      <td>44.906953</td>\n",
       "    </tr>\n",
       "    <tr>\n",
       "      <td>9</td>\n",
       "      <td>83.344460</td>\n",
       "    </tr>\n",
       "  </tbody>\n",
       "</table>\n",
       "</div>"
      ],
      "text/plain": [
       "   size_of_location\n",
       "0         58.495580\n",
       "1         96.688950\n",
       "2         77.024951\n",
       "3         87.224892\n",
       "4         67.901160\n",
       "5         54.745429\n",
       "6         64.840779\n",
       "7         52.796577\n",
       "8         44.906953\n",
       "9         83.344460"
      ]
     },
     "execution_count": 73,
     "metadata": {},
     "output_type": "execute_result"
    }
   ],
   "source": [
    "y_test_size_output.head(10)"
   ]
  },
  {
   "cell_type": "code",
   "execution_count": 74,
   "metadata": {},
   "outputs": [
    {
     "data": {
      "text/html": [
       "<div>\n",
       "<style scoped>\n",
       "    .dataframe tbody tr th:only-of-type {\n",
       "        vertical-align: middle;\n",
       "    }\n",
       "\n",
       "    .dataframe tbody tr th {\n",
       "        vertical-align: top;\n",
       "    }\n",
       "\n",
       "    .dataframe thead th {\n",
       "        text-align: right;\n",
       "    }\n",
       "</style>\n",
       "<table border=\"1\" class=\"dataframe\">\n",
       "  <thead>\n",
       "    <tr style=\"text-align: right;\">\n",
       "      <th></th>\n",
       "      <th>size_of_location</th>\n",
       "    </tr>\n",
       "    <tr>\n",
       "      <th>size_initials</th>\n",
       "      <th></th>\n",
       "    </tr>\n",
       "  </thead>\n",
       "  <tbody>\n",
       "    <tr>\n",
       "      <td>14325</td>\n",
       "      <td>58.495580</td>\n",
       "    </tr>\n",
       "    <tr>\n",
       "      <td>20858</td>\n",
       "      <td>96.688950</td>\n",
       "    </tr>\n",
       "    <tr>\n",
       "      <td>21869</td>\n",
       "      <td>77.024951</td>\n",
       "    </tr>\n",
       "    <tr>\n",
       "      <td>22415</td>\n",
       "      <td>87.224892</td>\n",
       "    </tr>\n",
       "    <tr>\n",
       "      <td>28156</td>\n",
       "      <td>67.901160</td>\n",
       "    </tr>\n",
       "    <tr>\n",
       "      <td>31440</td>\n",
       "      <td>54.745429</td>\n",
       "    </tr>\n",
       "    <tr>\n",
       "      <td>38296</td>\n",
       "      <td>64.840779</td>\n",
       "    </tr>\n",
       "    <tr>\n",
       "      <td>41217</td>\n",
       "      <td>52.796577</td>\n",
       "    </tr>\n",
       "    <tr>\n",
       "      <td>41306</td>\n",
       "      <td>44.906953</td>\n",
       "    </tr>\n",
       "    <tr>\n",
       "      <td>43123</td>\n",
       "      <td>83.344460</td>\n",
       "    </tr>\n",
       "  </tbody>\n",
       "</table>\n",
       "</div>"
      ],
      "text/plain": [
       "               size_of_location\n",
       "size_initials                  \n",
       "14325                 58.495580\n",
       "20858                 96.688950\n",
       "21869                 77.024951\n",
       "22415                 87.224892\n",
       "28156                 67.901160\n",
       "31440                 54.745429\n",
       "38296                 64.840779\n",
       "41217                 52.796577\n",
       "41306                 44.906953\n",
       "43123                 83.344460"
      ]
     },
     "execution_count": 74,
     "metadata": {},
     "output_type": "execute_result"
    }
   ],
   "source": [
    "size_initial_index = pd.DataFrame(size_X_test.index)\n",
    "size_initial_index.columns = ['size_initials']\n",
    "\n",
    "\n",
    "y_test_size_output = pd.concat([y_test_size_output, size_initial_index], axis=1)\n",
    "y_test_size_output.set_index(['size_initials'], inplace=True)\n",
    "y_test_size_output.head(10)"
   ]
  },
  {
   "cell_type": "code",
   "execution_count": 75,
   "metadata": {},
   "outputs": [
    {
     "data": {
      "text/plain": [
       "(9135, 1)"
      ]
     },
     "execution_count": 75,
     "metadata": {},
     "output_type": "execute_result"
    }
   ],
   "source": [
    "y_test_size_output.shape"
   ]
  },
  {
   "cell_type": "code",
   "execution_count": 76,
   "metadata": {},
   "outputs": [
    {
     "data": {
      "text/plain": [
       "(9135, 9)"
      ]
     },
     "execution_count": 76,
     "metadata": {},
     "output_type": "execute_result"
    }
   ],
   "source": [
    "size_X_test.shape"
   ]
  },
  {
   "cell_type": "code",
   "execution_count": 77,
   "metadata": {},
   "outputs": [
    {
     "data": {
      "text/html": [
       "<div>\n",
       "<style scoped>\n",
       "    .dataframe tbody tr th:only-of-type {\n",
       "        vertical-align: middle;\n",
       "    }\n",
       "\n",
       "    .dataframe tbody tr th {\n",
       "        vertical-align: top;\n",
       "    }\n",
       "\n",
       "    .dataframe thead th {\n",
       "        text-align: right;\n",
       "    }\n",
       "</style>\n",
       "<table border=\"1\" class=\"dataframe\">\n",
       "  <thead>\n",
       "    <tr style=\"text-align: right;\">\n",
       "      <th></th>\n",
       "      <th>distance_from_center</th>\n",
       "      <th>security_deposit</th>\n",
       "      <th>guests_included</th>\n",
       "      <th>cleaning_fee</th>\n",
       "      <th>price</th>\n",
       "      <th>extra_people</th>\n",
       "      <th>bedrooms</th>\n",
       "      <th>accommodates</th>\n",
       "      <th>bathrooms</th>\n",
       "    </tr>\n",
       "    <tr>\n",
       "      <th>id</th>\n",
       "      <th></th>\n",
       "      <th></th>\n",
       "      <th></th>\n",
       "      <th></th>\n",
       "      <th></th>\n",
       "      <th></th>\n",
       "      <th></th>\n",
       "      <th></th>\n",
       "      <th></th>\n",
       "    </tr>\n",
       "  </thead>\n",
       "  <tbody>\n",
       "    <tr>\n",
       "      <td>14325</td>\n",
       "      <td>3.098063</td>\n",
       "      <td>500.0</td>\n",
       "      <td>1</td>\n",
       "      <td>0.0</td>\n",
       "      <td>70.0</td>\n",
       "      <td>0.0</td>\n",
       "      <td>0.0</td>\n",
       "      <td>2</td>\n",
       "      <td>1.0</td>\n",
       "    </tr>\n",
       "    <tr>\n",
       "      <td>20858</td>\n",
       "      <td>1.894161</td>\n",
       "      <td>500.0</td>\n",
       "      <td>2</td>\n",
       "      <td>49.0</td>\n",
       "      <td>129.0</td>\n",
       "      <td>24.0</td>\n",
       "      <td>2.0</td>\n",
       "      <td>4</td>\n",
       "      <td>1.0</td>\n",
       "    </tr>\n",
       "    <tr>\n",
       "      <td>21869</td>\n",
       "      <td>2.784191</td>\n",
       "      <td>500.0</td>\n",
       "      <td>2</td>\n",
       "      <td>40.0</td>\n",
       "      <td>70.0</td>\n",
       "      <td>18.0</td>\n",
       "      <td>1.0</td>\n",
       "      <td>4</td>\n",
       "      <td>1.0</td>\n",
       "    </tr>\n",
       "    <tr>\n",
       "      <td>22415</td>\n",
       "      <td>3.223812</td>\n",
       "      <td>300.0</td>\n",
       "      <td>2</td>\n",
       "      <td>50.0</td>\n",
       "      <td>98.0</td>\n",
       "      <td>25.0</td>\n",
       "      <td>2.0</td>\n",
       "      <td>4</td>\n",
       "      <td>1.0</td>\n",
       "    </tr>\n",
       "    <tr>\n",
       "      <td>28156</td>\n",
       "      <td>2.972394</td>\n",
       "      <td>1660.0</td>\n",
       "      <td>1</td>\n",
       "      <td>0.0</td>\n",
       "      <td>70.0</td>\n",
       "      <td>0.0</td>\n",
       "      <td>0.0</td>\n",
       "      <td>2</td>\n",
       "      <td>1.0</td>\n",
       "    </tr>\n",
       "    <tr>\n",
       "      <td>31440</td>\n",
       "      <td>2.829667</td>\n",
       "      <td>100.0</td>\n",
       "      <td>1</td>\n",
       "      <td>15.0</td>\n",
       "      <td>44.0</td>\n",
       "      <td>15.0</td>\n",
       "      <td>1.0</td>\n",
       "      <td>1</td>\n",
       "      <td>1.0</td>\n",
       "    </tr>\n",
       "    <tr>\n",
       "      <td>38296</td>\n",
       "      <td>4.005418</td>\n",
       "      <td>500.0</td>\n",
       "      <td>2</td>\n",
       "      <td>35.0</td>\n",
       "      <td>80.0</td>\n",
       "      <td>0.0</td>\n",
       "      <td>1.0</td>\n",
       "      <td>2</td>\n",
       "      <td>1.0</td>\n",
       "    </tr>\n",
       "    <tr>\n",
       "      <td>41217</td>\n",
       "      <td>1.891995</td>\n",
       "      <td>0.0</td>\n",
       "      <td>1</td>\n",
       "      <td>0.0</td>\n",
       "      <td>43.0</td>\n",
       "      <td>13.0</td>\n",
       "      <td>1.0</td>\n",
       "      <td>2</td>\n",
       "      <td>1.0</td>\n",
       "    </tr>\n",
       "    <tr>\n",
       "      <td>41306</td>\n",
       "      <td>1.699220</td>\n",
       "      <td>0.0</td>\n",
       "      <td>1</td>\n",
       "      <td>0.0</td>\n",
       "      <td>40.0</td>\n",
       "      <td>0.0</td>\n",
       "      <td>1.0</td>\n",
       "      <td>2</td>\n",
       "      <td>1.0</td>\n",
       "    </tr>\n",
       "    <tr>\n",
       "      <td>43123</td>\n",
       "      <td>2.180805</td>\n",
       "      <td>300.0</td>\n",
       "      <td>2</td>\n",
       "      <td>50.0</td>\n",
       "      <td>90.0</td>\n",
       "      <td>20.0</td>\n",
       "      <td>1.0</td>\n",
       "      <td>4</td>\n",
       "      <td>1.0</td>\n",
       "    </tr>\n",
       "  </tbody>\n",
       "</table>\n",
       "</div>"
      ],
      "text/plain": [
       "       distance_from_center  security_deposit  guests_included  cleaning_fee  \\\n",
       "id                                                                             \n",
       "14325              3.098063             500.0                1           0.0   \n",
       "20858              1.894161             500.0                2          49.0   \n",
       "21869              2.784191             500.0                2          40.0   \n",
       "22415              3.223812             300.0                2          50.0   \n",
       "28156              2.972394            1660.0                1           0.0   \n",
       "31440              2.829667             100.0                1          15.0   \n",
       "38296              4.005418             500.0                2          35.0   \n",
       "41217              1.891995               0.0                1           0.0   \n",
       "41306              1.699220               0.0                1           0.0   \n",
       "43123              2.180805             300.0                2          50.0   \n",
       "\n",
       "       price  extra_people  bedrooms  accommodates  bathrooms  \n",
       "id                                                             \n",
       "14325   70.0           0.0       0.0             2        1.0  \n",
       "20858  129.0          24.0       2.0             4        1.0  \n",
       "21869   70.0          18.0       1.0             4        1.0  \n",
       "22415   98.0          25.0       2.0             4        1.0  \n",
       "28156   70.0           0.0       0.0             2        1.0  \n",
       "31440   44.0          15.0       1.0             1        1.0  \n",
       "38296   80.0           0.0       1.0             2        1.0  \n",
       "41217   43.0          13.0       1.0             2        1.0  \n",
       "41306   40.0           0.0       1.0             2        1.0  \n",
       "43123   90.0          20.0       1.0             4        1.0  "
      ]
     },
     "execution_count": 77,
     "metadata": {},
     "output_type": "execute_result"
    }
   ],
   "source": [
    "size_X_test.head(10)"
   ]
  },
  {
   "cell_type": "code",
   "execution_count": 78,
   "metadata": {},
   "outputs": [
    {
     "data": {
      "text/plain": [
       "(9135, 10)"
      ]
     },
     "execution_count": 78,
     "metadata": {},
     "output_type": "execute_result"
    }
   ],
   "source": [
    "try_test_data = pd.concat([size_X_test, y_test_size_output], axis=1)\n",
    "try_test_data.shape"
   ]
  },
  {
   "cell_type": "code",
   "execution_count": 79,
   "metadata": {},
   "outputs": [
    {
     "data": {
      "text/html": [
       "<div>\n",
       "<style scoped>\n",
       "    .dataframe tbody tr th:only-of-type {\n",
       "        vertical-align: middle;\n",
       "    }\n",
       "\n",
       "    .dataframe tbody tr th {\n",
       "        vertical-align: top;\n",
       "    }\n",
       "\n",
       "    .dataframe thead th {\n",
       "        text-align: right;\n",
       "    }\n",
       "</style>\n",
       "<table border=\"1\" class=\"dataframe\">\n",
       "  <thead>\n",
       "    <tr style=\"text-align: right;\">\n",
       "      <th></th>\n",
       "      <th>distance_from_center</th>\n",
       "      <th>security_deposit</th>\n",
       "      <th>guests_included</th>\n",
       "      <th>cleaning_fee</th>\n",
       "      <th>price</th>\n",
       "      <th>extra_people</th>\n",
       "      <th>bedrooms</th>\n",
       "      <th>accommodates</th>\n",
       "      <th>bathrooms</th>\n",
       "      <th>size_of_location</th>\n",
       "    </tr>\n",
       "  </thead>\n",
       "  <tbody>\n",
       "    <tr>\n",
       "      <td>14325</td>\n",
       "      <td>3.098063</td>\n",
       "      <td>500.0</td>\n",
       "      <td>1</td>\n",
       "      <td>0.0</td>\n",
       "      <td>70.0</td>\n",
       "      <td>0.0</td>\n",
       "      <td>0.0</td>\n",
       "      <td>2</td>\n",
       "      <td>1.0</td>\n",
       "      <td>58.495580</td>\n",
       "    </tr>\n",
       "    <tr>\n",
       "      <td>20858</td>\n",
       "      <td>1.894161</td>\n",
       "      <td>500.0</td>\n",
       "      <td>2</td>\n",
       "      <td>49.0</td>\n",
       "      <td>129.0</td>\n",
       "      <td>24.0</td>\n",
       "      <td>2.0</td>\n",
       "      <td>4</td>\n",
       "      <td>1.0</td>\n",
       "      <td>96.688950</td>\n",
       "    </tr>\n",
       "    <tr>\n",
       "      <td>21869</td>\n",
       "      <td>2.784191</td>\n",
       "      <td>500.0</td>\n",
       "      <td>2</td>\n",
       "      <td>40.0</td>\n",
       "      <td>70.0</td>\n",
       "      <td>18.0</td>\n",
       "      <td>1.0</td>\n",
       "      <td>4</td>\n",
       "      <td>1.0</td>\n",
       "      <td>77.024951</td>\n",
       "    </tr>\n",
       "    <tr>\n",
       "      <td>22415</td>\n",
       "      <td>3.223812</td>\n",
       "      <td>300.0</td>\n",
       "      <td>2</td>\n",
       "      <td>50.0</td>\n",
       "      <td>98.0</td>\n",
       "      <td>25.0</td>\n",
       "      <td>2.0</td>\n",
       "      <td>4</td>\n",
       "      <td>1.0</td>\n",
       "      <td>87.224892</td>\n",
       "    </tr>\n",
       "    <tr>\n",
       "      <td>28156</td>\n",
       "      <td>2.972394</td>\n",
       "      <td>1660.0</td>\n",
       "      <td>1</td>\n",
       "      <td>0.0</td>\n",
       "      <td>70.0</td>\n",
       "      <td>0.0</td>\n",
       "      <td>0.0</td>\n",
       "      <td>2</td>\n",
       "      <td>1.0</td>\n",
       "      <td>67.901160</td>\n",
       "    </tr>\n",
       "  </tbody>\n",
       "</table>\n",
       "</div>"
      ],
      "text/plain": [
       "       distance_from_center  security_deposit  guests_included  cleaning_fee  \\\n",
       "14325              3.098063             500.0                1           0.0   \n",
       "20858              1.894161             500.0                2          49.0   \n",
       "21869              2.784191             500.0                2          40.0   \n",
       "22415              3.223812             300.0                2          50.0   \n",
       "28156              2.972394            1660.0                1           0.0   \n",
       "\n",
       "       price  extra_people  bedrooms  accommodates  bathrooms  \\\n",
       "14325   70.0           0.0       0.0             2        1.0   \n",
       "20858  129.0          24.0       2.0             4        1.0   \n",
       "21869   70.0          18.0       1.0             4        1.0   \n",
       "22415   98.0          25.0       2.0             4        1.0   \n",
       "28156   70.0           0.0       0.0             2        1.0   \n",
       "\n",
       "       size_of_location  \n",
       "14325         58.495580  \n",
       "20858         96.688950  \n",
       "21869         77.024951  \n",
       "22415         87.224892  \n",
       "28156         67.901160  "
      ]
     },
     "execution_count": 79,
     "metadata": {},
     "output_type": "execute_result"
    }
   ],
   "source": [
    "try_test_data.head()"
   ]
  },
  {
   "cell_type": "code",
   "execution_count": 80,
   "metadata": {},
   "outputs": [
    {
     "name": "stderr",
     "output_type": "stream",
     "text": [
      "/Users/mac/opt/anaconda3/lib/python3.7/site-packages/ipykernel_launcher.py:1: FutureWarning: Sorting because non-concatenation axis is not aligned. A future version\n",
      "of pandas will change to not sort by default.\n",
      "\n",
      "To accept the future behavior, pass 'sort=False'.\n",
      "\n",
      "To retain the current behavior and silence the warning, pass 'sort=True'.\n",
      "\n",
      "  \"\"\"Entry point for launching an IPython kernel.\n"
     ]
    }
   ],
   "source": [
    "reduced_new_dataset = pd.concat([try_test_data, size_train_data], axis=0)"
   ]
  },
  {
   "cell_type": "code",
   "execution_count": 81,
   "metadata": {},
   "outputs": [
    {
     "data": {
      "text/plain": [
       "(18064, 10)"
      ]
     },
     "execution_count": 81,
     "metadata": {},
     "output_type": "execute_result"
    }
   ],
   "source": [
    "reduced_new_dataset.shape"
   ]
  },
  {
   "cell_type": "code",
   "execution_count": 82,
   "metadata": {},
   "outputs": [
    {
     "data": {
      "text/html": [
       "<div>\n",
       "<style scoped>\n",
       "    .dataframe tbody tr th:only-of-type {\n",
       "        vertical-align: middle;\n",
       "    }\n",
       "\n",
       "    .dataframe tbody tr th {\n",
       "        vertical-align: top;\n",
       "    }\n",
       "\n",
       "    .dataframe thead th {\n",
       "        text-align: right;\n",
       "    }\n",
       "</style>\n",
       "<table border=\"1\" class=\"dataframe\">\n",
       "  <thead>\n",
       "    <tr style=\"text-align: right;\">\n",
       "      <th></th>\n",
       "      <th>accommodates</th>\n",
       "      <th>bathrooms</th>\n",
       "      <th>bedrooms</th>\n",
       "      <th>cleaning_fee</th>\n",
       "      <th>distance_from_center</th>\n",
       "      <th>extra_people</th>\n",
       "      <th>guests_included</th>\n",
       "      <th>price</th>\n",
       "      <th>security_deposit</th>\n",
       "      <th>size_of_location</th>\n",
       "    </tr>\n",
       "  </thead>\n",
       "  <tbody>\n",
       "    <tr>\n",
       "      <td>14325</td>\n",
       "      <td>2</td>\n",
       "      <td>1.0</td>\n",
       "      <td>0.0</td>\n",
       "      <td>0.0</td>\n",
       "      <td>3.098063</td>\n",
       "      <td>0.0</td>\n",
       "      <td>1</td>\n",
       "      <td>70.0</td>\n",
       "      <td>500.0</td>\n",
       "      <td>58.495580</td>\n",
       "    </tr>\n",
       "    <tr>\n",
       "      <td>20858</td>\n",
       "      <td>4</td>\n",
       "      <td>1.0</td>\n",
       "      <td>2.0</td>\n",
       "      <td>49.0</td>\n",
       "      <td>1.894161</td>\n",
       "      <td>24.0</td>\n",
       "      <td>2</td>\n",
       "      <td>129.0</td>\n",
       "      <td>500.0</td>\n",
       "      <td>96.688950</td>\n",
       "    </tr>\n",
       "    <tr>\n",
       "      <td>21869</td>\n",
       "      <td>4</td>\n",
       "      <td>1.0</td>\n",
       "      <td>1.0</td>\n",
       "      <td>40.0</td>\n",
       "      <td>2.784191</td>\n",
       "      <td>18.0</td>\n",
       "      <td>2</td>\n",
       "      <td>70.0</td>\n",
       "      <td>500.0</td>\n",
       "      <td>77.024951</td>\n",
       "    </tr>\n",
       "    <tr>\n",
       "      <td>22415</td>\n",
       "      <td>4</td>\n",
       "      <td>1.0</td>\n",
       "      <td>2.0</td>\n",
       "      <td>50.0</td>\n",
       "      <td>3.223812</td>\n",
       "      <td>25.0</td>\n",
       "      <td>2</td>\n",
       "      <td>98.0</td>\n",
       "      <td>300.0</td>\n",
       "      <td>87.224892</td>\n",
       "    </tr>\n",
       "    <tr>\n",
       "      <td>28156</td>\n",
       "      <td>2</td>\n",
       "      <td>1.0</td>\n",
       "      <td>0.0</td>\n",
       "      <td>0.0</td>\n",
       "      <td>2.972394</td>\n",
       "      <td>0.0</td>\n",
       "      <td>1</td>\n",
       "      <td>70.0</td>\n",
       "      <td>1660.0</td>\n",
       "      <td>67.901160</td>\n",
       "    </tr>\n",
       "    <tr>\n",
       "      <td>31440</td>\n",
       "      <td>1</td>\n",
       "      <td>1.0</td>\n",
       "      <td>1.0</td>\n",
       "      <td>15.0</td>\n",
       "      <td>2.829667</td>\n",
       "      <td>15.0</td>\n",
       "      <td>1</td>\n",
       "      <td>44.0</td>\n",
       "      <td>100.0</td>\n",
       "      <td>54.745429</td>\n",
       "    </tr>\n",
       "    <tr>\n",
       "      <td>38296</td>\n",
       "      <td>2</td>\n",
       "      <td>1.0</td>\n",
       "      <td>1.0</td>\n",
       "      <td>35.0</td>\n",
       "      <td>4.005418</td>\n",
       "      <td>0.0</td>\n",
       "      <td>2</td>\n",
       "      <td>80.0</td>\n",
       "      <td>500.0</td>\n",
       "      <td>64.840779</td>\n",
       "    </tr>\n",
       "    <tr>\n",
       "      <td>41217</td>\n",
       "      <td>2</td>\n",
       "      <td>1.0</td>\n",
       "      <td>1.0</td>\n",
       "      <td>0.0</td>\n",
       "      <td>1.891995</td>\n",
       "      <td>13.0</td>\n",
       "      <td>1</td>\n",
       "      <td>43.0</td>\n",
       "      <td>0.0</td>\n",
       "      <td>52.796577</td>\n",
       "    </tr>\n",
       "    <tr>\n",
       "      <td>41306</td>\n",
       "      <td>2</td>\n",
       "      <td>1.0</td>\n",
       "      <td>1.0</td>\n",
       "      <td>0.0</td>\n",
       "      <td>1.699220</td>\n",
       "      <td>0.0</td>\n",
       "      <td>1</td>\n",
       "      <td>40.0</td>\n",
       "      <td>0.0</td>\n",
       "      <td>44.906953</td>\n",
       "    </tr>\n",
       "    <tr>\n",
       "      <td>43123</td>\n",
       "      <td>4</td>\n",
       "      <td>1.0</td>\n",
       "      <td>1.0</td>\n",
       "      <td>50.0</td>\n",
       "      <td>2.180805</td>\n",
       "      <td>20.0</td>\n",
       "      <td>2</td>\n",
       "      <td>90.0</td>\n",
       "      <td>300.0</td>\n",
       "      <td>83.344460</td>\n",
       "    </tr>\n",
       "  </tbody>\n",
       "</table>\n",
       "</div>"
      ],
      "text/plain": [
       "       accommodates  bathrooms  bedrooms  cleaning_fee  distance_from_center  \\\n",
       "14325             2        1.0       0.0           0.0              3.098063   \n",
       "20858             4        1.0       2.0          49.0              1.894161   \n",
       "21869             4        1.0       1.0          40.0              2.784191   \n",
       "22415             4        1.0       2.0          50.0              3.223812   \n",
       "28156             2        1.0       0.0           0.0              2.972394   \n",
       "31440             1        1.0       1.0          15.0              2.829667   \n",
       "38296             2        1.0       1.0          35.0              4.005418   \n",
       "41217             2        1.0       1.0           0.0              1.891995   \n",
       "41306             2        1.0       1.0           0.0              1.699220   \n",
       "43123             4        1.0       1.0          50.0              2.180805   \n",
       "\n",
       "       extra_people  guests_included  price  security_deposit  \\\n",
       "14325           0.0                1   70.0             500.0   \n",
       "20858          24.0                2  129.0             500.0   \n",
       "21869          18.0                2   70.0             500.0   \n",
       "22415          25.0                2   98.0             300.0   \n",
       "28156           0.0                1   70.0            1660.0   \n",
       "31440          15.0                1   44.0             100.0   \n",
       "38296           0.0                2   80.0             500.0   \n",
       "41217          13.0                1   43.0               0.0   \n",
       "41306           0.0                1   40.0               0.0   \n",
       "43123          20.0                2   90.0             300.0   \n",
       "\n",
       "       size_of_location  \n",
       "14325         58.495580  \n",
       "20858         96.688950  \n",
       "21869         77.024951  \n",
       "22415         87.224892  \n",
       "28156         67.901160  \n",
       "31440         54.745429  \n",
       "38296         64.840779  \n",
       "41217         52.796577  \n",
       "41306         44.906953  \n",
       "43123         83.344460  "
      ]
     },
     "execution_count": 82,
     "metadata": {},
     "output_type": "execute_result"
    }
   ],
   "source": [
    "reduced_new_dataset.head(10)"
   ]
  },
  {
   "cell_type": "code",
   "execution_count": 83,
   "metadata": {},
   "outputs": [
    {
     "name": "stdout",
     "output_type": "stream",
     "text": [
      "<class 'pandas.core.frame.DataFrame'>\n",
      "Int64Index: 18064 entries, 14325 to 29721020\n",
      "Data columns (total 10 columns):\n",
      "accommodates            18064 non-null int64\n",
      "bathrooms               18064 non-null float64\n",
      "bedrooms                18064 non-null float64\n",
      "cleaning_fee            18064 non-null float64\n",
      "distance_from_center    18064 non-null float64\n",
      "extra_people            18064 non-null float64\n",
      "guests_included         18064 non-null int64\n",
      "price                   18064 non-null float64\n",
      "security_deposit        18064 non-null float64\n",
      "size_of_location        18064 non-null float64\n",
      "dtypes: float64(8), int64(2)\n",
      "memory usage: 1.5 MB\n"
     ]
    }
   ],
   "source": [
    "reduced_new_dataset.info()"
   ]
  },
  {
   "cell_type": "code",
   "execution_count": 84,
   "metadata": {},
   "outputs": [],
   "source": [
    "relevant_dataframe.drop(['bathrooms','accommodates', 'price', 'bedrooms', 'security_deposit', 'cleaning_fee', \n",
    "             'guests_included', 'extra_people', 'size_of_location', 'distance_from_center'], axis=1, inplace=True)"
   ]
  },
  {
   "cell_type": "code",
   "execution_count": 85,
   "metadata": {},
   "outputs": [
    {
     "data": {
      "text/plain": [
       "(18064, 24)"
      ]
     },
     "execution_count": 85,
     "metadata": {},
     "output_type": "execute_result"
    }
   ],
   "source": [
    "new_dataframe = pd.concat([relevant_dataframe, reduced_new_dataset], axis=1)\n",
    "new_dataframe.shape"
   ]
  },
  {
   "cell_type": "markdown",
   "metadata": {},
   "source": [
    "<h1> Checking for Amenities </h1>"
   ]
  },
  {
   "cell_type": "code",
   "execution_count": 86,
   "metadata": {},
   "outputs": [
    {
     "data": {
      "text/plain": [
       "2015        {TV,\"Cable TV\",Wifi,Kitchen,Gym,Heating,\"Famil...\n",
       "2695        {Wifi,Kitchen,Elevator,Heating,Washer,Essentia...\n",
       "3176        {Internet,Wifi,Kitchen,\"Buzzer/wireless interc...\n",
       "3309        {Internet,Wifi,\"Pets allowed\",\"Pets live on th...\n",
       "7071        {Wifi,Heating,\"Family/kid friendly\",Essentials...\n",
       "                                  ...                        \n",
       "29671651    {Wifi,\"Air conditioning\",Kitchen,\"Smoking allo...\n",
       "29680856    {Wifi,Kitchen,Breakfast,Heating,Washer,\"First ...\n",
       "29710765    {TV,Wifi,\"Air conditioning\",Kitchen,\"Free park...\n",
       "29721020    {TV,\"Cable TV\",Kitchen,\"Free street parking\",\"...\n",
       "29740105    {TV,Wifi,Kitchen,\"Smoking allowed\",Elevator,He...\n",
       "Name: amenities, Length: 18064, dtype: object"
      ]
     },
     "execution_count": 86,
     "metadata": {},
     "output_type": "execute_result"
    }
   ],
   "source": [
    "new_dataframe['amenities']"
   ]
  },
  {
   "cell_type": "code",
   "execution_count": 87,
   "metadata": {},
   "outputs": [
    {
     "data": {
      "text/plain": [
       "[('Wifi', 17392),\n",
       " ('Heating', 17140),\n",
       " ('Kitchen', 17131),\n",
       " ('Essentials', 16656),\n",
       " ('Washer', 14847),\n",
       " ('Hair dryer', 12573),\n",
       " ('Laptop friendly workspace', 11977),\n",
       " ('Hangers', 11580),\n",
       " ('Iron', 9380),\n",
       " ('Shampoo', 8986),\n",
       " ('Hot water', 8902),\n",
       " ('TV', 8146),\n",
       " ('Family/kid friendly', 6945),\n",
       " ('Internet', 6591),\n",
       " ('Host greets you', 6166),\n",
       " ('Smoke detector', 5345),\n",
       " ('Buzzer/wireless intercom', 5086),\n",
       " ('Free street parking', 4889),\n",
       " ('Refrigerator', 4819),\n",
       " ('Dishes and silverware', 4702)]"
      ]
     },
     "execution_count": 87,
     "metadata": {},
     "output_type": "execute_result"
    }
   ],
   "source": [
    "amenities_count = Counter()\n",
    "new_dataframe['amenities'].str.strip('{}').str.replace('\"', '').str.lstrip('\\\"').str.rstrip('\\\"').str.split(',')\\\n",
    "               .apply(amenities_count.update)\n",
    "\n",
    "amenities_count.most_common(20)"
   ]
  },
  {
   "cell_type": "code",
   "execution_count": 88,
   "metadata": {},
   "outputs": [],
   "source": [
    "amenities_df = pd.DataFrame(amenities_count.most_common(20), columns=['amenity', 'count_of_amenities'])"
   ]
  },
  {
   "cell_type": "code",
   "execution_count": 89,
   "metadata": {},
   "outputs": [
    {
     "data": {
      "text/html": [
       "<div>\n",
       "<style scoped>\n",
       "    .dataframe tbody tr th:only-of-type {\n",
       "        vertical-align: middle;\n",
       "    }\n",
       "\n",
       "    .dataframe tbody tr th {\n",
       "        vertical-align: top;\n",
       "    }\n",
       "\n",
       "    .dataframe thead th {\n",
       "        text-align: right;\n",
       "    }\n",
       "</style>\n",
       "<table border=\"1\" class=\"dataframe\">\n",
       "  <thead>\n",
       "    <tr style=\"text-align: right;\">\n",
       "      <th></th>\n",
       "      <th>amenity</th>\n",
       "      <th>count_of_amenities</th>\n",
       "    </tr>\n",
       "  </thead>\n",
       "  <tbody>\n",
       "    <tr>\n",
       "      <td>0</td>\n",
       "      <td>Wifi</td>\n",
       "      <td>17392</td>\n",
       "    </tr>\n",
       "    <tr>\n",
       "      <td>1</td>\n",
       "      <td>Heating</td>\n",
       "      <td>17140</td>\n",
       "    </tr>\n",
       "    <tr>\n",
       "      <td>2</td>\n",
       "      <td>Kitchen</td>\n",
       "      <td>17131</td>\n",
       "    </tr>\n",
       "    <tr>\n",
       "      <td>3</td>\n",
       "      <td>Essentials</td>\n",
       "      <td>16656</td>\n",
       "    </tr>\n",
       "    <tr>\n",
       "      <td>4</td>\n",
       "      <td>Washer</td>\n",
       "      <td>14847</td>\n",
       "    </tr>\n",
       "    <tr>\n",
       "      <td>5</td>\n",
       "      <td>Hair dryer</td>\n",
       "      <td>12573</td>\n",
       "    </tr>\n",
       "    <tr>\n",
       "      <td>6</td>\n",
       "      <td>Laptop friendly workspace</td>\n",
       "      <td>11977</td>\n",
       "    </tr>\n",
       "    <tr>\n",
       "      <td>7</td>\n",
       "      <td>Hangers</td>\n",
       "      <td>11580</td>\n",
       "    </tr>\n",
       "    <tr>\n",
       "      <td>8</td>\n",
       "      <td>Iron</td>\n",
       "      <td>9380</td>\n",
       "    </tr>\n",
       "    <tr>\n",
       "      <td>9</td>\n",
       "      <td>Shampoo</td>\n",
       "      <td>8986</td>\n",
       "    </tr>\n",
       "  </tbody>\n",
       "</table>\n",
       "</div>"
      ],
      "text/plain": [
       "                     amenity  count_of_amenities\n",
       "0                       Wifi               17392\n",
       "1                    Heating               17140\n",
       "2                    Kitchen               17131\n",
       "3                 Essentials               16656\n",
       "4                     Washer               14847\n",
       "5                 Hair dryer               12573\n",
       "6  Laptop friendly workspace               11977\n",
       "7                    Hangers               11580\n",
       "8                       Iron                9380\n",
       "9                    Shampoo                8986"
      ]
     },
     "execution_count": 89,
     "metadata": {},
     "output_type": "execute_result"
    }
   ],
   "source": [
    "amenities_df.head(10)"
   ]
  },
  {
   "cell_type": "code",
   "execution_count": 90,
   "metadata": {},
   "outputs": [],
   "source": [
    "new_dataframe['TV'] = new_dataframe['amenities'].str.contains('TV')#Categorical features whether it has TV\n",
    "new_dataframe['Family_kid_friendly'] = new_dataframe['amenities'].str.contains('Family/kid friendly')#Categorical features whether it is kid friendly\n",
    "new_dataframe['Laptop_friendly_workspace'] = new_dataframe['amenities'].str.contains('Laptop friendly workspace') #categorical features formulated\n",
    "new_dataframe['Smoking_allowed'] = new_dataframe['amenities'].str.contains('Smoking allowed')#Categorical feature whether smoking is allowed\n",
    "new_dataframe['Host_greets_you'] = new_dataframe['amenities'].str.contains('Host greets you')#Categorical feature whether guest is greeted"
   ]
  },
  {
   "cell_type": "code",
   "execution_count": 91,
   "metadata": {
    "scrolled": true
   },
   "outputs": [
    {
     "data": {
      "text/html": [
       "<div>\n",
       "<style scoped>\n",
       "    .dataframe tbody tr th:only-of-type {\n",
       "        vertical-align: middle;\n",
       "    }\n",
       "\n",
       "    .dataframe tbody tr th {\n",
       "        vertical-align: top;\n",
       "    }\n",
       "\n",
       "    .dataframe thead th {\n",
       "        text-align: right;\n",
       "    }\n",
       "</style>\n",
       "<table border=\"1\" class=\"dataframe\">\n",
       "  <thead>\n",
       "    <tr style=\"text-align: right;\">\n",
       "      <th></th>\n",
       "      <th>room_type</th>\n",
       "      <th>neighbourhood_group_cleansed</th>\n",
       "      <th>latitude</th>\n",
       "      <th>longitude</th>\n",
       "      <th>property_type</th>\n",
       "      <th>host_has_profile_pic</th>\n",
       "      <th>minimum_nights</th>\n",
       "      <th>is_business_travel_ready</th>\n",
       "      <th>bed_type</th>\n",
       "      <th>amenities</th>\n",
       "      <th>...</th>\n",
       "      <th>extra_people</th>\n",
       "      <th>guests_included</th>\n",
       "      <th>price</th>\n",
       "      <th>security_deposit</th>\n",
       "      <th>size_of_location</th>\n",
       "      <th>TV</th>\n",
       "      <th>Family_kid_friendly</th>\n",
       "      <th>Laptop_friendly_workspace</th>\n",
       "      <th>Smoking_allowed</th>\n",
       "      <th>Host_greets_you</th>\n",
       "    </tr>\n",
       "  </thead>\n",
       "  <tbody>\n",
       "    <tr>\n",
       "      <td>2015</td>\n",
       "      <td>Entire home/apt</td>\n",
       "      <td>Mitte</td>\n",
       "      <td>52.534537</td>\n",
       "      <td>13.402557</td>\n",
       "      <td>Guesthouse</td>\n",
       "      <td>t</td>\n",
       "      <td>4</td>\n",
       "      <td>f</td>\n",
       "      <td>Real Bed</td>\n",
       "      <td>{TV,\"Cable TV\",Wifi,Kitchen,Gym,Heating,\"Famil...</td>\n",
       "      <td>...</td>\n",
       "      <td>28.0</td>\n",
       "      <td>1</td>\n",
       "      <td>60.0</td>\n",
       "      <td>200.0</td>\n",
       "      <td>75.0</td>\n",
       "      <td>True</td>\n",
       "      <td>True</td>\n",
       "      <td>True</td>\n",
       "      <td>False</td>\n",
       "      <td>False</td>\n",
       "    </tr>\n",
       "    <tr>\n",
       "      <td>2695</td>\n",
       "      <td>Private room</td>\n",
       "      <td>Pankow</td>\n",
       "      <td>52.548513</td>\n",
       "      <td>13.404553</td>\n",
       "      <td>Apartment</td>\n",
       "      <td>t</td>\n",
       "      <td>2</td>\n",
       "      <td>f</td>\n",
       "      <td>Real Bed</td>\n",
       "      <td>{Wifi,Kitchen,Elevator,Heating,Washer,Essentia...</td>\n",
       "      <td>...</td>\n",
       "      <td>0.0</td>\n",
       "      <td>1</td>\n",
       "      <td>17.0</td>\n",
       "      <td>0.0</td>\n",
       "      <td>25.0</td>\n",
       "      <td>False</td>\n",
       "      <td>False</td>\n",
       "      <td>True</td>\n",
       "      <td>False</td>\n",
       "      <td>False</td>\n",
       "    </tr>\n",
       "    <tr>\n",
       "      <td>3176</td>\n",
       "      <td>Entire home/apt</td>\n",
       "      <td>Pankow</td>\n",
       "      <td>52.534996</td>\n",
       "      <td>13.417579</td>\n",
       "      <td>Apartment</td>\n",
       "      <td>t</td>\n",
       "      <td>62</td>\n",
       "      <td>f</td>\n",
       "      <td>Real Bed</td>\n",
       "      <td>{Internet,Wifi,Kitchen,\"Buzzer/wireless interc...</td>\n",
       "      <td>...</td>\n",
       "      <td>20.0</td>\n",
       "      <td>2</td>\n",
       "      <td>90.0</td>\n",
       "      <td>200.0</td>\n",
       "      <td>68.0</td>\n",
       "      <td>False</td>\n",
       "      <td>True</td>\n",
       "      <td>True</td>\n",
       "      <td>False</td>\n",
       "      <td>False</td>\n",
       "    </tr>\n",
       "    <tr>\n",
       "      <td>3309</td>\n",
       "      <td>Private room</td>\n",
       "      <td>Tempelhof - Schöneberg</td>\n",
       "      <td>52.498855</td>\n",
       "      <td>13.349065</td>\n",
       "      <td>Apartment</td>\n",
       "      <td>t</td>\n",
       "      <td>5</td>\n",
       "      <td>f</td>\n",
       "      <td>Pull-out Sofa</td>\n",
       "      <td>{Internet,Wifi,\"Pets allowed\",\"Pets live on th...</td>\n",
       "      <td>...</td>\n",
       "      <td>18.0</td>\n",
       "      <td>1</td>\n",
       "      <td>26.0</td>\n",
       "      <td>250.0</td>\n",
       "      <td>26.0</td>\n",
       "      <td>False</td>\n",
       "      <td>False</td>\n",
       "      <td>True</td>\n",
       "      <td>False</td>\n",
       "      <td>True</td>\n",
       "    </tr>\n",
       "    <tr>\n",
       "      <td>7071</td>\n",
       "      <td>Private room</td>\n",
       "      <td>Pankow</td>\n",
       "      <td>52.543157</td>\n",
       "      <td>13.415091</td>\n",
       "      <td>Apartment</td>\n",
       "      <td>t</td>\n",
       "      <td>2</td>\n",
       "      <td>f</td>\n",
       "      <td>Real Bed</td>\n",
       "      <td>{Wifi,Heating,\"Family/kid friendly\",Essentials...</td>\n",
       "      <td>...</td>\n",
       "      <td>24.0</td>\n",
       "      <td>1</td>\n",
       "      <td>42.0</td>\n",
       "      <td>0.0</td>\n",
       "      <td>20.0</td>\n",
       "      <td>False</td>\n",
       "      <td>True</td>\n",
       "      <td>True</td>\n",
       "      <td>False</td>\n",
       "      <td>False</td>\n",
       "    </tr>\n",
       "  </tbody>\n",
       "</table>\n",
       "<p>5 rows × 29 columns</p>\n",
       "</div>"
      ],
      "text/plain": [
       "            room_type neighbourhood_group_cleansed   latitude  longitude  \\\n",
       "2015  Entire home/apt                        Mitte  52.534537  13.402557   \n",
       "2695     Private room                       Pankow  52.548513  13.404553   \n",
       "3176  Entire home/apt                       Pankow  52.534996  13.417579   \n",
       "3309     Private room       Tempelhof - Schöneberg  52.498855  13.349065   \n",
       "7071     Private room                       Pankow  52.543157  13.415091   \n",
       "\n",
       "     property_type host_has_profile_pic  minimum_nights  \\\n",
       "2015    Guesthouse                    t               4   \n",
       "2695     Apartment                    t               2   \n",
       "3176     Apartment                    t              62   \n",
       "3309     Apartment                    t               5   \n",
       "7071     Apartment                    t               2   \n",
       "\n",
       "     is_business_travel_ready       bed_type  \\\n",
       "2015                        f       Real Bed   \n",
       "2695                        f       Real Bed   \n",
       "3176                        f       Real Bed   \n",
       "3309                        f  Pull-out Sofa   \n",
       "7071                        f       Real Bed   \n",
       "\n",
       "                                              amenities  ... extra_people  \\\n",
       "2015  {TV,\"Cable TV\",Wifi,Kitchen,Gym,Heating,\"Famil...  ...         28.0   \n",
       "2695  {Wifi,Kitchen,Elevator,Heating,Washer,Essentia...  ...          0.0   \n",
       "3176  {Internet,Wifi,Kitchen,\"Buzzer/wireless interc...  ...         20.0   \n",
       "3309  {Internet,Wifi,\"Pets allowed\",\"Pets live on th...  ...         18.0   \n",
       "7071  {Wifi,Heating,\"Family/kid friendly\",Essentials...  ...         24.0   \n",
       "\n",
       "     guests_included  price  security_deposit  size_of_location     TV  \\\n",
       "2015               1   60.0             200.0              75.0   True   \n",
       "2695               1   17.0               0.0              25.0  False   \n",
       "3176               2   90.0             200.0              68.0  False   \n",
       "3309               1   26.0             250.0              26.0  False   \n",
       "7071               1   42.0               0.0              20.0  False   \n",
       "\n",
       "      Family_kid_friendly  Laptop_friendly_workspace  Smoking_allowed  \\\n",
       "2015                 True                       True            False   \n",
       "2695                False                       True            False   \n",
       "3176                 True                       True            False   \n",
       "3309                False                       True            False   \n",
       "7071                 True                       True            False   \n",
       "\n",
       "      Host_greets_you  \n",
       "2015            False  \n",
       "2695            False  \n",
       "3176            False  \n",
       "3309             True  \n",
       "7071            False  \n",
       "\n",
       "[5 rows x 29 columns]"
      ]
     },
     "execution_count": 91,
     "metadata": {},
     "output_type": "execute_result"
    }
   ],
   "source": [
    "new_dataframe.head()#dataframe after building categorical features"
   ]
  },
  {
   "cell_type": "code",
   "execution_count": null,
   "metadata": {},
   "outputs": [],
   "source": []
  },
  {
   "cell_type": "markdown",
   "metadata": {},
   "source": [
    "<h1> Exploratory Data Analysis</h1>"
   ]
  },
  {
   "cell_type": "code",
   "execution_count": 92,
   "metadata": {},
   "outputs": [
    {
     "data": {
      "text/html": [
       "<div>\n",
       "<style scoped>\n",
       "    .dataframe tbody tr th:only-of-type {\n",
       "        vertical-align: middle;\n",
       "    }\n",
       "\n",
       "    .dataframe tbody tr th {\n",
       "        vertical-align: top;\n",
       "    }\n",
       "\n",
       "    .dataframe thead th {\n",
       "        text-align: right;\n",
       "    }\n",
       "</style>\n",
       "<table border=\"1\" class=\"dataframe\">\n",
       "  <thead>\n",
       "    <tr style=\"text-align: right;\">\n",
       "      <th>neighbourhood_group_cleansed</th>\n",
       "      <th>Charlottenburg-Wilm.</th>\n",
       "      <th>Friedrichshain-Kreuzberg</th>\n",
       "      <th>Lichtenberg</th>\n",
       "      <th>Marzahn - Hellersdorf</th>\n",
       "      <th>Mitte</th>\n",
       "      <th>Neukölln</th>\n",
       "      <th>Pankow</th>\n",
       "      <th>Reinickendorf</th>\n",
       "      <th>Spandau</th>\n",
       "      <th>Steglitz - Zehlendorf</th>\n",
       "      <th>Tempelhof - Schöneberg</th>\n",
       "      <th>Treptow - Köpenick</th>\n",
       "    </tr>\n",
       "    <tr>\n",
       "      <th>room_type</th>\n",
       "      <th></th>\n",
       "      <th></th>\n",
       "      <th></th>\n",
       "      <th></th>\n",
       "      <th></th>\n",
       "      <th></th>\n",
       "      <th></th>\n",
       "      <th></th>\n",
       "      <th></th>\n",
       "      <th></th>\n",
       "      <th></th>\n",
       "      <th></th>\n",
       "    </tr>\n",
       "  </thead>\n",
       "  <tbody>\n",
       "    <tr>\n",
       "      <td>Entire home/apt</td>\n",
       "      <td>848</td>\n",
       "      <td>2475</td>\n",
       "      <td>293</td>\n",
       "      <td>80</td>\n",
       "      <td>2236</td>\n",
       "      <td>1376</td>\n",
       "      <td>1988</td>\n",
       "      <td>115</td>\n",
       "      <td>72</td>\n",
       "      <td>224</td>\n",
       "      <td>717</td>\n",
       "      <td>298</td>\n",
       "    </tr>\n",
       "    <tr>\n",
       "      <td>Private room</td>\n",
       "      <td>719</td>\n",
       "      <td>2967</td>\n",
       "      <td>383</td>\n",
       "      <td>56</td>\n",
       "      <td>2288</td>\n",
       "      <td>2099</td>\n",
       "      <td>1523</td>\n",
       "      <td>128</td>\n",
       "      <td>48</td>\n",
       "      <td>211</td>\n",
       "      <td>819</td>\n",
       "      <td>293</td>\n",
       "    </tr>\n",
       "    <tr>\n",
       "      <td>Shared room</td>\n",
       "      <td>25</td>\n",
       "      <td>55</td>\n",
       "      <td>12</td>\n",
       "      <td>5</td>\n",
       "      <td>107</td>\n",
       "      <td>24</td>\n",
       "      <td>30</td>\n",
       "      <td>4</td>\n",
       "      <td>4</td>\n",
       "      <td>2</td>\n",
       "      <td>24</td>\n",
       "      <td>4</td>\n",
       "    </tr>\n",
       "  </tbody>\n",
       "</table>\n",
       "</div>"
      ],
      "text/plain": [
       "neighbourhood_group_cleansed  Charlottenburg-Wilm.  Friedrichshain-Kreuzberg  \\\n",
       "room_type                                                                      \n",
       "Entire home/apt                                848                      2475   \n",
       "Private room                                   719                      2967   \n",
       "Shared room                                     25                        55   \n",
       "\n",
       "neighbourhood_group_cleansed  Lichtenberg  Marzahn - Hellersdorf  Mitte  \\\n",
       "room_type                                                                 \n",
       "Entire home/apt                       293                     80   2236   \n",
       "Private room                          383                     56   2288   \n",
       "Shared room                            12                      5    107   \n",
       "\n",
       "neighbourhood_group_cleansed  Neukölln  Pankow  Reinickendorf  Spandau  \\\n",
       "room_type                                                                \n",
       "Entire home/apt                   1376    1988            115       72   \n",
       "Private room                      2099    1523            128       48   \n",
       "Shared room                         24      30              4        4   \n",
       "\n",
       "neighbourhood_group_cleansed  Steglitz - Zehlendorf  Tempelhof - Schöneberg  \\\n",
       "room_type                                                                     \n",
       "Entire home/apt                                 224                     717   \n",
       "Private room                                    211                     819   \n",
       "Shared room                                       2                      24   \n",
       "\n",
       "neighbourhood_group_cleansed  Treptow - Köpenick  \n",
       "room_type                                         \n",
       "Entire home/apt                              298  \n",
       "Private room                                 293  \n",
       "Shared room                                    4  "
      ]
     },
     "execution_count": 92,
     "metadata": {},
     "output_type": "execute_result"
    }
   ],
   "source": [
    "list_of_neighbourbood_groups = dataframe_listings[[ 'room_type','neighbourhood_group_cleansed']]\n",
    "two_classes = pd.crosstab(list_of_neighbourbood_groups.room_type,list_of_neighbourbood_groups.neighbourhood_group_cleansed)\n",
    "two_classes"
   ]
  },
  {
   "cell_type": "code",
   "execution_count": 93,
   "metadata": {},
   "outputs": [
    {
     "data": {
      "image/png": "[encoded data removed]",
      "text/plain": [
       "<Figure size 576x396 with 1 Axes>"
      ]
     },
     "metadata": {},
     "output_type": "display_data"
    }
   ],
   "source": [
    "two_classes.plot.bar(stacked=True)\n",
    "plt.show()"
   ]
  },
  {
   "cell_type": "markdown",
   "metadata": {},
   "source": [
    "<h2> Latitude and Longitude Linking with Price</h2>"
   ]
  },
  {
   "cell_type": "code",
   "execution_count": 110,
   "metadata": {},
   "outputs": [
    {
     "data": {
      "image/png": "[encoded data removed]",
      "text/plain": [
       "<Figure size 432x288 with 1 Axes>"
      ]
     },
     "metadata": {},
     "output_type": "display_data"
    }
   ],
   "source": [
    "dataframe_listings.plot(kind=\"scatter\", x=\"latitude\", y=\"longitude\", alpha=0.4, figsize=(6,4), cmap=\"gist_heat_r\", colorbar=False, sharex=False);"
   ]
  },
  {
   "cell_type": "markdown",
   "metadata": {},
   "source": [
    "<h2> Price Difference by number of Bedrooms</h2>"
   ]
  },
  {
   "cell_type": "code",
   "execution_count": 111,
   "metadata": {},
   "outputs": [
    {
     "data": {
      "image/png": "[encoded data removed]",
      "text/plain": [
       "<Figure size 432x288 with 1 Axes>"
      ]
     },
     "metadata": {},
     "output_type": "display_data"
    }
   ],
   "source": [
    "df_grouped_display = pd.DataFrame(new_dataframe.groupby(['neighbourhood_group_cleansed'])['price'].agg(np.median))\n",
    "df_grouped_display.reset_index(inplace=True)\n",
    "\n",
    "# plot this \n",
    "df_grouped_display.plot(kind='barh', x='neighbourhood_group_cleansed', y='price', \n",
    "                figsize=(6,4), legend=True, color='blue')\n",
    "\n",
    "plt.xlabel('Pricing Range', fontsize=8)\n",
    "plt.ylabel('Districts near to the propeties', fontsize=8)\n",
    "plt.title('Median Prices with respect to Neighbourhood', fontsize=10, fontweight='bold');"
   ]
  },
  {
   "cell_type": "markdown",
   "metadata": {
    "collapsed": true
   },
   "source": [
    "<h2> Price Difference By cancellation Policy</h2>"
   ]
  },
  {
   "cell_type": "code",
   "execution_count": 112,
   "metadata": {},
   "outputs": [
    {
     "data": {
      "image/png": "[encoded data removed]",
      "text/plain": [
       "<Figure size 360x216 with 1 Axes>"
      ]
     },
     "metadata": {},
     "output_type": "display_data"
    }
   ],
   "source": [
    "df_grouped = pd.DataFrame(new_dataframe.groupby(['cancellation_policy'])['price'].agg(np.median))\n",
    "df_grouped.reset_index(inplace=True)\n",
    "\n",
    "df_grouped.plot(kind='barh', x='cancellation_policy', y='price', \n",
    "                figsize=(5,3), legend=False, color='red')\n",
    "\n",
    "plt.xlabel('Price at its Median', fontsize=12)\n",
    "plt.ylabel('Types of Cancellation Policy', fontsize=12)\n",
    "plt.title('Median Prices by different types of cancellation policy', fontsize=14, fontweight='bold');"
   ]
  },
  {
   "cell_type": "code",
   "execution_count": null,
   "metadata": {},
   "outputs": [],
   "source": []
  },
  {
   "cell_type": "code",
   "execution_count": null,
   "metadata": {},
   "outputs": [],
   "source": []
  },
  {
   "cell_type": "code",
   "execution_count": null,
   "metadata": {},
   "outputs": [],
   "source": []
  },
  {
   "cell_type": "markdown",
   "metadata": {},
   "source": [
    "<h1> Data Modeling </h1>"
   ]
  },
  {
   "cell_type": "code",
   "execution_count": 90,
   "metadata": {},
   "outputs": [],
   "source": [
    "new_dataframe.drop(['latitude', 'longitude', 'property_type','neighbourhood_group_cleansed'], axis=1, inplace=True)"
   ]
  },
  {
   "cell_type": "code",
   "execution_count": 91,
   "metadata": {},
   "outputs": [],
   "source": [
    "for colname in ['host_has_profile_pic', 'room_type', 'bed_type', 'instant_bookable', \n",
    "            'is_business_travel_ready', 'cancellation_policy']:\n",
    "    new_dataframe[colname] = new_dataframe[colname].astype('category')"
   ]
  },
  {
   "cell_type": "code",
   "execution_count": 92,
   "metadata": {},
   "outputs": [
    {
     "name": "stdout",
     "output_type": "stream",
     "text": [
      "<class 'pandas.core.frame.DataFrame'>\n",
      "Int64Index: 18064 entries, 2015 to 29740105\n",
      "Data columns (total 25 columns):\n",
      "room_type                    18064 non-null category\n",
      "host_has_profile_pic         18064 non-null category\n",
      "minimum_nights               18064 non-null int64\n",
      "is_business_travel_ready     18064 non-null category\n",
      "bed_type                     18064 non-null category\n",
      "amenities                    18064 non-null object\n",
      "instant_bookable             18064 non-null category\n",
      "cancellation_policy          18064 non-null category\n",
      "review_scores_accuracy       18064 non-null float64\n",
      "number_of_reviews            18064 non-null int64\n",
      "accommodates                 18064 non-null int64\n",
      "bathrooms                    18064 non-null float64\n",
      "bedrooms                     18064 non-null float64\n",
      "cleaning_fee                 18064 non-null float64\n",
      "distance_from_center         18064 non-null float64\n",
      "extra_people                 18064 non-null float64\n",
      "guests_included              18064 non-null int64\n",
      "price                        18064 non-null float64\n",
      "security_deposit             18064 non-null float64\n",
      "size_of_location             18064 non-null float64\n",
      "Laptop_friendly_workspace    18064 non-null bool\n",
      "TV                           18064 non-null bool\n",
      "Family_kid_friendly          18064 non-null bool\n",
      "Host_greets_you              18064 non-null bool\n",
      "Smoking_allowed              18064 non-null bool\n",
      "dtypes: bool(5), category(6), float64(9), int64(4), object(1)\n",
      "memory usage: 2.3+ MB\n"
     ]
    }
   ],
   "source": [
    "new_dataframe.info()"
   ]
  },
  {
   "cell_type": "code",
   "execution_count": 93,
   "metadata": {},
   "outputs": [
    {
     "data": {
      "text/html": [
       "<div>\n",
       "<style scoped>\n",
       "    .dataframe tbody tr th:only-of-type {\n",
       "        vertical-align: middle;\n",
       "    }\n",
       "\n",
       "    .dataframe tbody tr th {\n",
       "        vertical-align: top;\n",
       "    }\n",
       "\n",
       "    .dataframe thead th {\n",
       "        text-align: right;\n",
       "    }\n",
       "</style>\n",
       "<table border=\"1\" class=\"dataframe\">\n",
       "  <thead>\n",
       "    <tr style=\"text-align: right;\">\n",
       "      <th></th>\n",
       "      <th>room_type</th>\n",
       "      <th>host_has_profile_pic</th>\n",
       "      <th>minimum_nights</th>\n",
       "      <th>is_business_travel_ready</th>\n",
       "      <th>bed_type</th>\n",
       "      <th>amenities</th>\n",
       "      <th>instant_bookable</th>\n",
       "      <th>cancellation_policy</th>\n",
       "      <th>review_scores_accuracy</th>\n",
       "      <th>number_of_reviews</th>\n",
       "      <th>...</th>\n",
       "      <th>extra_people</th>\n",
       "      <th>guests_included</th>\n",
       "      <th>price</th>\n",
       "      <th>security_deposit</th>\n",
       "      <th>size_of_location</th>\n",
       "      <th>Laptop_friendly_workspace</th>\n",
       "      <th>TV</th>\n",
       "      <th>Family_kid_friendly</th>\n",
       "      <th>Host_greets_you</th>\n",
       "      <th>Smoking_allowed</th>\n",
       "    </tr>\n",
       "  </thead>\n",
       "  <tbody>\n",
       "    <tr>\n",
       "      <td>2015</td>\n",
       "      <td>Entire home/apt</td>\n",
       "      <td>t</td>\n",
       "      <td>4</td>\n",
       "      <td>f</td>\n",
       "      <td>Real Bed</td>\n",
       "      <td>{TV,\"Cable TV\",Wifi,Kitchen,Gym,Heating,\"Famil...</td>\n",
       "      <td>f</td>\n",
       "      <td>strict_14_with_grace_period</td>\n",
       "      <td>10.0</td>\n",
       "      <td>118</td>\n",
       "      <td>...</td>\n",
       "      <td>28.0</td>\n",
       "      <td>1</td>\n",
       "      <td>60.0</td>\n",
       "      <td>200.0</td>\n",
       "      <td>75.0</td>\n",
       "      <td>True</td>\n",
       "      <td>True</td>\n",
       "      <td>True</td>\n",
       "      <td>False</td>\n",
       "      <td>False</td>\n",
       "    </tr>\n",
       "    <tr>\n",
       "      <td>2695</td>\n",
       "      <td>Private room</td>\n",
       "      <td>t</td>\n",
       "      <td>2</td>\n",
       "      <td>f</td>\n",
       "      <td>Real Bed</td>\n",
       "      <td>{Wifi,Kitchen,Elevator,Heating,Washer,Essentia...</td>\n",
       "      <td>f</td>\n",
       "      <td>flexible</td>\n",
       "      <td>10.0</td>\n",
       "      <td>6</td>\n",
       "      <td>...</td>\n",
       "      <td>0.0</td>\n",
       "      <td>1</td>\n",
       "      <td>17.0</td>\n",
       "      <td>0.0</td>\n",
       "      <td>25.0</td>\n",
       "      <td>True</td>\n",
       "      <td>False</td>\n",
       "      <td>False</td>\n",
       "      <td>False</td>\n",
       "      <td>False</td>\n",
       "    </tr>\n",
       "    <tr>\n",
       "      <td>3176</td>\n",
       "      <td>Entire home/apt</td>\n",
       "      <td>t</td>\n",
       "      <td>62</td>\n",
       "      <td>f</td>\n",
       "      <td>Real Bed</td>\n",
       "      <td>{Internet,Wifi,Kitchen,\"Buzzer/wireless interc...</td>\n",
       "      <td>t</td>\n",
       "      <td>strict_14_with_grace_period</td>\n",
       "      <td>9.0</td>\n",
       "      <td>143</td>\n",
       "      <td>...</td>\n",
       "      <td>20.0</td>\n",
       "      <td>2</td>\n",
       "      <td>90.0</td>\n",
       "      <td>200.0</td>\n",
       "      <td>68.0</td>\n",
       "      <td>True</td>\n",
       "      <td>False</td>\n",
       "      <td>True</td>\n",
       "      <td>False</td>\n",
       "      <td>False</td>\n",
       "    </tr>\n",
       "    <tr>\n",
       "      <td>3309</td>\n",
       "      <td>Private room</td>\n",
       "      <td>t</td>\n",
       "      <td>5</td>\n",
       "      <td>f</td>\n",
       "      <td>Pull-out Sofa</td>\n",
       "      <td>{Internet,Wifi,\"Pets allowed\",\"Pets live on th...</td>\n",
       "      <td>f</td>\n",
       "      <td>strict_14_with_grace_period</td>\n",
       "      <td>9.0</td>\n",
       "      <td>25</td>\n",
       "      <td>...</td>\n",
       "      <td>18.0</td>\n",
       "      <td>1</td>\n",
       "      <td>26.0</td>\n",
       "      <td>250.0</td>\n",
       "      <td>26.0</td>\n",
       "      <td>True</td>\n",
       "      <td>False</td>\n",
       "      <td>False</td>\n",
       "      <td>True</td>\n",
       "      <td>False</td>\n",
       "    </tr>\n",
       "    <tr>\n",
       "      <td>7071</td>\n",
       "      <td>Private room</td>\n",
       "      <td>t</td>\n",
       "      <td>2</td>\n",
       "      <td>f</td>\n",
       "      <td>Real Bed</td>\n",
       "      <td>{Wifi,Heating,\"Family/kid friendly\",Essentials...</td>\n",
       "      <td>f</td>\n",
       "      <td>moderate</td>\n",
       "      <td>10.0</td>\n",
       "      <td>197</td>\n",
       "      <td>...</td>\n",
       "      <td>24.0</td>\n",
       "      <td>1</td>\n",
       "      <td>42.0</td>\n",
       "      <td>0.0</td>\n",
       "      <td>20.0</td>\n",
       "      <td>True</td>\n",
       "      <td>False</td>\n",
       "      <td>True</td>\n",
       "      <td>False</td>\n",
       "      <td>False</td>\n",
       "    </tr>\n",
       "  </tbody>\n",
       "</table>\n",
       "<p>5 rows × 25 columns</p>\n",
       "</div>"
      ],
      "text/plain": [
       "            room_type host_has_profile_pic  minimum_nights  \\\n",
       "2015  Entire home/apt                    t               4   \n",
       "2695     Private room                    t               2   \n",
       "3176  Entire home/apt                    t              62   \n",
       "3309     Private room                    t               5   \n",
       "7071     Private room                    t               2   \n",
       "\n",
       "     is_business_travel_ready       bed_type  \\\n",
       "2015                        f       Real Bed   \n",
       "2695                        f       Real Bed   \n",
       "3176                        f       Real Bed   \n",
       "3309                        f  Pull-out Sofa   \n",
       "7071                        f       Real Bed   \n",
       "\n",
       "                                              amenities instant_bookable  \\\n",
       "2015  {TV,\"Cable TV\",Wifi,Kitchen,Gym,Heating,\"Famil...                f   \n",
       "2695  {Wifi,Kitchen,Elevator,Heating,Washer,Essentia...                f   \n",
       "3176  {Internet,Wifi,Kitchen,\"Buzzer/wireless interc...                t   \n",
       "3309  {Internet,Wifi,\"Pets allowed\",\"Pets live on th...                f   \n",
       "7071  {Wifi,Heating,\"Family/kid friendly\",Essentials...                f   \n",
       "\n",
       "              cancellation_policy  review_scores_accuracy  number_of_reviews  \\\n",
       "2015  strict_14_with_grace_period                    10.0                118   \n",
       "2695                     flexible                    10.0                  6   \n",
       "3176  strict_14_with_grace_period                     9.0                143   \n",
       "3309  strict_14_with_grace_period                     9.0                 25   \n",
       "7071                     moderate                    10.0                197   \n",
       "\n",
       "      ...  extra_people  guests_included  price  security_deposit  \\\n",
       "2015  ...          28.0                1   60.0             200.0   \n",
       "2695  ...           0.0                1   17.0               0.0   \n",
       "3176  ...          20.0                2   90.0             200.0   \n",
       "3309  ...          18.0                1   26.0             250.0   \n",
       "7071  ...          24.0                1   42.0               0.0   \n",
       "\n",
       "      size_of_location  Laptop_friendly_workspace     TV  Family_kid_friendly  \\\n",
       "2015              75.0                       True   True                 True   \n",
       "2695              25.0                       True  False                False   \n",
       "3176              68.0                       True  False                 True   \n",
       "3309              26.0                       True  False                False   \n",
       "7071              20.0                       True  False                 True   \n",
       "\n",
       "      Host_greets_you  Smoking_allowed  \n",
       "2015            False            False  \n",
       "2695            False            False  \n",
       "3176            False            False  \n",
       "3309             True            False  \n",
       "7071            False            False  \n",
       "\n",
       "[5 rows x 25 columns]"
      ]
     },
     "execution_count": 93,
     "metadata": {},
     "output_type": "execute_result"
    }
   ],
   "source": [
    "new_dataframe.head()"
   ]
  },
  {
   "cell_type": "code",
   "execution_count": 94,
   "metadata": {},
   "outputs": [],
   "source": [
    "new_dataframe.drop(['amenities'], axis=1, inplace=True)"
   ]
  },
  {
   "cell_type": "code",
   "execution_count": 95,
   "metadata": {},
   "outputs": [],
   "source": [
    "target_price = new_dataframe[[\"price\"]]\n",
    "\n",
    "all_features = new_dataframe.drop([\"price\"], axis=1)"
   ]
  },
  {
   "cell_type": "code",
   "execution_count": 96,
   "metadata": {},
   "outputs": [],
   "source": [
    "numerical_features = all_features.select_dtypes(include=['float64', 'int64', 'bool']).copy()\n",
    "\n",
    "# one-hot encoding of categorical features\n",
    "categorical_features = all_features.select_dtypes(include=['category']).copy()\n",
    "categorical_features = pd.get_dummies(categorical_features)"
   ]
  },
  {
   "cell_type": "code",
   "execution_count": 97,
   "metadata": {},
   "outputs": [],
   "source": [
    "final_features = pd.concat([numerical_features, categorical_features], axis=1)"
   ]
  },
  {
   "cell_type": "code",
   "execution_count": 98,
   "metadata": {},
   "outputs": [
    {
     "name": "stdout",
     "output_type": "stream",
     "text": [
      "(18064, 35)\n"
     ]
    },
    {
     "data": {
      "text/html": [
       "<div>\n",
       "<style scoped>\n",
       "    .dataframe tbody tr th:only-of-type {\n",
       "        vertical-align: middle;\n",
       "    }\n",
       "\n",
       "    .dataframe tbody tr th {\n",
       "        vertical-align: top;\n",
       "    }\n",
       "\n",
       "    .dataframe thead th {\n",
       "        text-align: right;\n",
       "    }\n",
       "</style>\n",
       "<table border=\"1\" class=\"dataframe\">\n",
       "  <thead>\n",
       "    <tr style=\"text-align: right;\">\n",
       "      <th></th>\n",
       "      <th>minimum_nights</th>\n",
       "      <th>review_scores_accuracy</th>\n",
       "      <th>number_of_reviews</th>\n",
       "      <th>accommodates</th>\n",
       "      <th>bathrooms</th>\n",
       "      <th>bedrooms</th>\n",
       "      <th>cleaning_fee</th>\n",
       "      <th>distance_from_center</th>\n",
       "      <th>extra_people</th>\n",
       "      <th>guests_included</th>\n",
       "      <th>...</th>\n",
       "      <th>bed_type_Futon</th>\n",
       "      <th>bed_type_Pull-out Sofa</th>\n",
       "      <th>bed_type_Real Bed</th>\n",
       "      <th>instant_bookable_f</th>\n",
       "      <th>instant_bookable_t</th>\n",
       "      <th>cancellation_policy_flexible</th>\n",
       "      <th>cancellation_policy_moderate</th>\n",
       "      <th>cancellation_policy_strict_14_with_grace_period</th>\n",
       "      <th>cancellation_policy_super_strict_30</th>\n",
       "      <th>cancellation_policy_super_strict_60</th>\n",
       "    </tr>\n",
       "  </thead>\n",
       "  <tbody>\n",
       "    <tr>\n",
       "      <td>2015</td>\n",
       "      <td>4</td>\n",
       "      <td>10.0</td>\n",
       "      <td>118</td>\n",
       "      <td>3</td>\n",
       "      <td>1.0</td>\n",
       "      <td>1.0</td>\n",
       "      <td>30.0</td>\n",
       "      <td>1.624949</td>\n",
       "      <td>28.0</td>\n",
       "      <td>1</td>\n",
       "      <td>...</td>\n",
       "      <td>0</td>\n",
       "      <td>0</td>\n",
       "      <td>1</td>\n",
       "      <td>1</td>\n",
       "      <td>0</td>\n",
       "      <td>0</td>\n",
       "      <td>0</td>\n",
       "      <td>1</td>\n",
       "      <td>0</td>\n",
       "      <td>0</td>\n",
       "    </tr>\n",
       "    <tr>\n",
       "      <td>2695</td>\n",
       "      <td>2</td>\n",
       "      <td>10.0</td>\n",
       "      <td>6</td>\n",
       "      <td>2</td>\n",
       "      <td>1.0</td>\n",
       "      <td>1.0</td>\n",
       "      <td>0.0</td>\n",
       "      <td>3.172058</td>\n",
       "      <td>0.0</td>\n",
       "      <td>1</td>\n",
       "      <td>...</td>\n",
       "      <td>0</td>\n",
       "      <td>0</td>\n",
       "      <td>1</td>\n",
       "      <td>1</td>\n",
       "      <td>0</td>\n",
       "      <td>1</td>\n",
       "      <td>0</td>\n",
       "      <td>0</td>\n",
       "      <td>0</td>\n",
       "      <td>0</td>\n",
       "    </tr>\n",
       "  </tbody>\n",
       "</table>\n",
       "<p>2 rows × 35 columns</p>\n",
       "</div>"
      ],
      "text/plain": [
       "      minimum_nights  review_scores_accuracy  number_of_reviews  accommodates  \\\n",
       "2015               4                    10.0                118             3   \n",
       "2695               2                    10.0                  6             2   \n",
       "\n",
       "      bathrooms  bedrooms  cleaning_fee  distance_from_center  extra_people  \\\n",
       "2015        1.0       1.0          30.0              1.624949          28.0   \n",
       "2695        1.0       1.0           0.0              3.172058           0.0   \n",
       "\n",
       "      guests_included  ...  bed_type_Futon  bed_type_Pull-out Sofa  \\\n",
       "2015                1  ...               0                       0   \n",
       "2695                1  ...               0                       0   \n",
       "\n",
       "      bed_type_Real Bed  instant_bookable_f  instant_bookable_t  \\\n",
       "2015                  1                   1                   0   \n",
       "2695                  1                   1                   0   \n",
       "\n",
       "      cancellation_policy_flexible  cancellation_policy_moderate  \\\n",
       "2015                             0                             0   \n",
       "2695                             1                             0   \n",
       "\n",
       "      cancellation_policy_strict_14_with_grace_period  \\\n",
       "2015                                                1   \n",
       "2695                                                0   \n",
       "\n",
       "      cancellation_policy_super_strict_30  cancellation_policy_super_strict_60  \n",
       "2015                                    0                                    0  \n",
       "2695                                    0                                    0  \n",
       "\n",
       "[2 rows x 35 columns]"
      ]
     },
     "execution_count": 98,
     "metadata": {},
     "output_type": "execute_result"
    }
   ],
   "source": [
    "print(final_features.shape)\n",
    "final_features.head(2)"
   ]
  },
  {
   "cell_type": "code",
   "execution_count": 99,
   "metadata": {},
   "outputs": [
    {
     "name": "stdout",
     "output_type": "stream",
     "text": [
      "<class 'pandas.core.frame.DataFrame'>\n",
      "Int64Index: 18064 entries, 2015 to 29740105\n",
      "Data columns (total 35 columns):\n",
      "minimum_nights                                     18064 non-null int64\n",
      "review_scores_accuracy                             18064 non-null float64\n",
      "number_of_reviews                                  18064 non-null int64\n",
      "accommodates                                       18064 non-null int64\n",
      "bathrooms                                          18064 non-null float64\n",
      "bedrooms                                           18064 non-null float64\n",
      "cleaning_fee                                       18064 non-null float64\n",
      "distance_from_center                               18064 non-null float64\n",
      "extra_people                                       18064 non-null float64\n",
      "guests_included                                    18064 non-null int64\n",
      "security_deposit                                   18064 non-null float64\n",
      "size_of_location                                   18064 non-null float64\n",
      "Laptop_friendly_workspace                          18064 non-null bool\n",
      "TV                                                 18064 non-null bool\n",
      "Family_kid_friendly                                18064 non-null bool\n",
      "Host_greets_you                                    18064 non-null bool\n",
      "Smoking_allowed                                    18064 non-null bool\n",
      "room_type_Entire home/apt                          18064 non-null uint8\n",
      "room_type_Private room                             18064 non-null uint8\n",
      "room_type_Shared room                              18064 non-null uint8\n",
      "host_has_profile_pic_f                             18064 non-null uint8\n",
      "host_has_profile_pic_t                             18064 non-null uint8\n",
      "is_business_travel_ready_f                         18064 non-null uint8\n",
      "bed_type_Airbed                                    18064 non-null uint8\n",
      "bed_type_Couch                                     18064 non-null uint8\n",
      "bed_type_Futon                                     18064 non-null uint8\n",
      "bed_type_Pull-out Sofa                             18064 non-null uint8\n",
      "bed_type_Real Bed                                  18064 non-null uint8\n",
      "instant_bookable_f                                 18064 non-null uint8\n",
      "instant_bookable_t                                 18064 non-null uint8\n",
      "cancellation_policy_flexible                       18064 non-null uint8\n",
      "cancellation_policy_moderate                       18064 non-null uint8\n",
      "cancellation_policy_strict_14_with_grace_period    18064 non-null uint8\n",
      "cancellation_policy_super_strict_30                18064 non-null uint8\n",
      "cancellation_policy_super_strict_60                18064 non-null uint8\n",
      "dtypes: bool(5), float64(8), int64(4), uint8(18)\n",
      "memory usage: 2.2 MB\n"
     ]
    }
   ],
   "source": [
    "final_features.info()"
   ]
  },
  {
   "cell_type": "markdown",
   "metadata": {},
   "source": [
    "<h1> Model Application </h1>"
   ]
  },
  {
   "cell_type": "code",
   "execution_count": 101,
   "metadata": {},
   "outputs": [],
   "source": [
    "from sklearn.linear_model import LogisticRegression #loadingmodels from inbuilt libraries\n",
    "import xgboost as xgb #importing xgboost from inbuilt library\n",
    "from sklearn.tree import DecisionTreeRegressor #import decision tree regressor from sklearn\n",
    "from sklearn.dummy import DummyRegressor #import dummy regressor from sklearn\n",
    "from sklearn.neighbors import KNeighborsClassifier #import k neighbor classifier from sklearn\n",
    "from sklearn.neighbors import KNeighborsRegressor #import k neighbor regressor from sklearn\n",
    "from sklearn.model_selection import train_test_split\n",
    "# import metrics\n",
    "from sklearn.metrics import mean_squared_error, r2_score\n",
    "from sklearn.model_selection import cross_val_score"
   ]
  },
  {
   "cell_type": "code",
   "execution_count": 102,
   "metadata": {},
   "outputs": [],
   "source": [
    "from sklearn.model_selection import train_test_split#calling splitting function \n",
    "X_train_price, X_test_price, y_train_price, y_test_price = train_test_split(final_features, target_price, test_size=0.2) #Splitting features into test and train dataset"
   ]
  },
  {
   "cell_type": "code",
   "execution_count": 103,
   "metadata": {},
   "outputs": [],
   "source": [
    "from sklearn.preprocessing import StandardScaler #importing scaler for normalizing the values\n",
    "s_scaler = StandardScaler() #initializing the scalar\n",
    "X_train_price = s_scaler.fit_transform(X_train_price) #scaling training dataset \n",
    "X_test_price= s_scaler.transform(X_test_price) #scaling testing dataset"
   ]
  },
  {
   "cell_type": "code",
   "execution_count": 98,
   "metadata": {
    "collapsed": true
   },
   "outputs": [],
   "source": [
    "knn= KNeighborsClassifier(n_neighbors=2)\n",
    "def caculate_cross_val_scores_knn(X_test_price,y_test_price):\n",
    "    scores=cross_val_score(knn, X_test_price,y_test_price, cv=10)\n",
    "    scores_knn=[]\n",
    "    for val in scores:\n",
    "        scores_knn.append(val*10)\n",
    "    return scores_knn"
   ]
  },
  {
   "cell_type": "code",
   "execution_count": null,
   "metadata": {
    "collapsed": true
   },
   "outputs": [],
   "source": []
  },
  {
   "cell_type": "code",
   "execution_count": null,
   "metadata": {
    "collapsed": true
   },
   "outputs": [],
   "source": []
  },
  {
   "cell_type": "markdown",
   "metadata": {},
   "source": [
    "<h1> Decision Tree Regressor </h1>"
   ]
  },
  {
   "cell_type": "code",
   "execution_count": 99,
   "metadata": {
    "collapsed": true
   },
   "outputs": [],
   "source": [
    "d_tree = DecisionTreeRegressor()\n",
    "# fit and train model\n",
    "d_tree.fit(X_train_price, y_train_price)\n",
    "\n",
    "value_pred_decisiontree = d_tree.predict(X_test_price)"
   ]
  },
  {
   "cell_type": "code",
   "execution_count": 100,
   "metadata": {
    "collapsed": true
   },
   "outputs": [],
   "source": [
    "d_tree.fit(X_train_price, y_train_price)\n",
    "scores_dt=cross_val_score(d_tree, X_test_price,y_test_price, cv=10)"
   ]
  },
  {
   "cell_type": "code",
   "execution_count": 101,
   "metadata": {},
   "outputs": [
    {
     "data": {
      "text/plain": [
       "array([ 0.06483176,  0.21828012,  0.36585493,  0.25537717,  0.04142764,\n",
       "        0.07318357,  0.3415167 , -0.10590635, -0.64958951,  0.33971206])"
      ]
     },
     "execution_count": 101,
     "metadata": {},
     "output_type": "execute_result"
    }
   ],
   "source": [
    "scores_dt"
   ]
  },
  {
   "cell_type": "code",
   "execution_count": 102,
   "metadata": {},
   "outputs": [
    {
     "data": {
      "text/plain": [
       "36.4669"
      ]
     },
     "execution_count": 102,
     "metadata": {},
     "output_type": "execute_result"
    }
   ],
   "source": [
    "round(np.sqrt(mean_squared_error(y_test_price, value_pred_decisiontree)),4)"
   ]
  },
  {
   "cell_type": "code",
   "execution_count": 103,
   "metadata": {},
   "outputs": [
    {
     "data": {
      "text/plain": [
       "0.29307980110522125"
      ]
     },
     "execution_count": 103,
     "metadata": {},
     "output_type": "execute_result"
    }
   ],
   "source": [
    "r2_decision_tree = r2_score(y_test_price, value_pred_decisiontree)\n",
    "r2_decision_tree"
   ]
  },
  {
   "cell_type": "markdown",
   "metadata": {},
   "source": [
    "<h1> XGBOOST </h1>"
   ]
  },
  {
   "cell_type": "code",
   "execution_count": 104,
   "metadata": {},
   "outputs": [
    {
     "name": "stdout",
     "output_type": "stream",
     "text": [
      "[13:45:12] WARNING: /workspace/src/objective/regression_obj.cu:152: reg:linear is now deprecated in favor of reg:squarederror.\n",
      "[13:45:19] WARNING: /workspace/src/objective/regression_obj.cu:152: reg:linear is now deprecated in favor of reg:squarederror.\n",
      "[13:45:20] WARNING: /workspace/src/objective/regression_obj.cu:152: reg:linear is now deprecated in favor of reg:squarederror.\n",
      "[13:45:22] WARNING: /workspace/src/objective/regression_obj.cu:152: reg:linear is now deprecated in favor of reg:squarederror.\n",
      "[13:45:23] WARNING: /workspace/src/objective/regression_obj.cu:152: reg:linear is now deprecated in favor of reg:squarederror.\n",
      "[13:45:25] WARNING: /workspace/src/objective/regression_obj.cu:152: reg:linear is now deprecated in favor of reg:squarederror.\n",
      "[13:45:26] WARNING: /workspace/src/objective/regression_obj.cu:152: reg:linear is now deprecated in favor of reg:squarederror.\n",
      "[13:45:28] WARNING: /workspace/src/objective/regression_obj.cu:152: reg:linear is now deprecated in favor of reg:squarederror.\n",
      "[13:45:29] WARNING: /workspace/src/objective/regression_obj.cu:152: reg:linear is now deprecated in favor of reg:squarederror.\n",
      "[13:45:31] WARNING: /workspace/src/objective/regression_obj.cu:152: reg:linear is now deprecated in favor of reg:squarederror.\n",
      "[13:45:32] WARNING: /workspace/src/objective/regression_obj.cu:152: reg:linear is now deprecated in favor of reg:squarederror.\n"
     ]
    }
   ],
   "source": [
    "cv_booster = xgb.XGBRegressor(colsample_bytree=0.7, gamma=0.2, learning_rate=0.1, \n",
    "                           max_depth=6, n_estimators=200, random_state=4)\n",
    "\n",
    "cv_booster.fit(X_train_price, y_train_price)\n",
    "val_pred_booster = cv_booster.predict(X_test_price)\n",
    "scores_bt=cross_val_score(cv_booster, X_test_price,y_test_price, cv=10)"
   ]
  },
  {
   "cell_type": "code",
   "execution_count": 105,
   "metadata": {},
   "outputs": [
    {
     "data": {
      "text/plain": [
       "array([0.58877125, 0.58928778, 0.69180065, 0.6018771 , 0.67495533,\n",
       "       0.61272769, 0.63913045, 0.59910248, 0.55536666, 0.63292803])"
      ]
     },
     "execution_count": 105,
     "metadata": {},
     "output_type": "execute_result"
    }
   ],
   "source": [
    "scores_bt"
   ]
  },
  {
   "cell_type": "code",
   "execution_count": 106,
   "metadata": {},
   "outputs": [
    {
     "data": {
      "text/plain": [
       "0.6637754801736346"
      ]
     },
     "execution_count": 106,
     "metadata": {},
     "output_type": "execute_result"
    }
   ],
   "source": [
    "r2_booster = r2_score(y_test_price, val_pred_booster)\n",
    "r2_booster"
   ]
  },
  {
   "cell_type": "code",
   "execution_count": 107,
   "metadata": {},
   "outputs": [
    {
     "data": {
      "text/plain": [
       "25.1495"
      ]
     },
     "execution_count": 107,
     "metadata": {},
     "output_type": "execute_result"
    }
   ],
   "source": [
    "round(np.sqrt(mean_squared_error(y_test_price, val_pred_booster)),4)"
   ]
  },
  {
   "cell_type": "markdown",
   "metadata": {},
   "source": [
    "<h1> Dummy Regressor </h1>"
   ]
  },
  {
   "cell_type": "code",
   "execution_count": 107,
   "metadata": {},
   "outputs": [
    {
     "data": {
      "text/plain": [
       "array([-3.34324120e-03, -2.54925417e-03, -6.57319609e-03, -5.35549197e-03,\n",
       "       -4.64436335e-03, -8.05679293e-06, -2.96752573e-04, -5.51682684e-04,\n",
       "       -2.87634367e-04, -1.84540613e-04])"
      ]
     },
     "execution_count": 107,
     "metadata": {},
     "output_type": "execute_result"
    }
   ],
   "source": [
    "dr=DummyRegressor()\n",
    "dr.fit(X_train_price,y_train_price)\n",
    "val_pred_dr = dr.predict(X_test_price)\n",
    "scores_dr=cross_val_score(dr,X_test_price,y_test_price,cv=10)\n",
    "scores_dr"
   ]
  },
  {
   "cell_type": "code",
   "execution_count": 108,
   "metadata": {},
   "outputs": [
    {
     "data": {
      "text/plain": [
       "43.6231"
      ]
     },
     "execution_count": 108,
     "metadata": {},
     "output_type": "execute_result"
    }
   ],
   "source": [
    "round(np.sqrt(mean_squared_error(y_test_price, val_pred_dr)),4)"
   ]
  },
  {
   "cell_type": "code",
   "execution_count": 109,
   "metadata": {},
   "outputs": [
    {
     "data": {
      "text/plain": [
       "-0.0007310427918874041"
      ]
     },
     "execution_count": 109,
     "metadata": {},
     "output_type": "execute_result"
    }
   ],
   "source": [
    "r2_dummy_regr = r2_score(y_test_price, val_pred_dr)\n",
    "r2_dummy_regr"
   ]
  },
  {
   "cell_type": "code",
   "execution_count": null,
   "metadata": {
    "collapsed": true
   },
   "outputs": [],
   "source": []
  },
  {
   "cell_type": "markdown",
   "metadata": {},
   "source": [
    "<h1> KNN </h1>"
   ]
  },
  {
   "cell_type": "code",
   "execution_count": 110,
   "metadata": {},
   "outputs": [
    {
     "name": "stderr",
     "output_type": "stream",
     "text": [
      "/home/ritika/anaconda/lib/python3.6/site-packages/ipykernel_launcher.py:2: DataConversionWarning: A column-vector y was passed when a 1d array was expected. Please change the shape of y to (n_samples, ), for example using ravel().\n",
      "  \n",
      "/home/ritika/anaconda/lib/python3.6/site-packages/sklearn/model_selection/_split.py:657: Warning: The least populated class in y has only 1 members, which is too few. The minimum number of members in any class cannot be less than n_splits=10.\n",
      "  % (min_groups, self.n_splits)), Warning)\n",
      "/home/ritika/anaconda/lib/python3.6/site-packages/sklearn/model_selection/_validation.py:516: DataConversionWarning: A column-vector y was passed when a 1d array was expected. Please change the shape of y to (n_samples, ), for example using ravel().\n",
      "  estimator.fit(X_train, y_train, **fit_params)\n",
      "/home/ritika/anaconda/lib/python3.6/site-packages/sklearn/model_selection/_validation.py:516: DataConversionWarning: A column-vector y was passed when a 1d array was expected. Please change the shape of y to (n_samples, ), for example using ravel().\n",
      "  estimator.fit(X_train, y_train, **fit_params)\n",
      "/home/ritika/anaconda/lib/python3.6/site-packages/sklearn/model_selection/_validation.py:516: DataConversionWarning: A column-vector y was passed when a 1d array was expected. Please change the shape of y to (n_samples, ), for example using ravel().\n",
      "  estimator.fit(X_train, y_train, **fit_params)\n",
      "/home/ritika/anaconda/lib/python3.6/site-packages/sklearn/model_selection/_validation.py:516: DataConversionWarning: A column-vector y was passed when a 1d array was expected. Please change the shape of y to (n_samples, ), for example using ravel().\n",
      "  estimator.fit(X_train, y_train, **fit_params)\n",
      "/home/ritika/anaconda/lib/python3.6/site-packages/sklearn/model_selection/_validation.py:516: DataConversionWarning: A column-vector y was passed when a 1d array was expected. Please change the shape of y to (n_samples, ), for example using ravel().\n",
      "  estimator.fit(X_train, y_train, **fit_params)\n",
      "/home/ritika/anaconda/lib/python3.6/site-packages/sklearn/model_selection/_validation.py:516: DataConversionWarning: A column-vector y was passed when a 1d array was expected. Please change the shape of y to (n_samples, ), for example using ravel().\n",
      "  estimator.fit(X_train, y_train, **fit_params)\n",
      "/home/ritika/anaconda/lib/python3.6/site-packages/sklearn/model_selection/_validation.py:516: DataConversionWarning: A column-vector y was passed when a 1d array was expected. Please change the shape of y to (n_samples, ), for example using ravel().\n",
      "  estimator.fit(X_train, y_train, **fit_params)\n",
      "/home/ritika/anaconda/lib/python3.6/site-packages/sklearn/model_selection/_validation.py:516: DataConversionWarning: A column-vector y was passed when a 1d array was expected. Please change the shape of y to (n_samples, ), for example using ravel().\n",
      "  estimator.fit(X_train, y_train, **fit_params)\n",
      "/home/ritika/anaconda/lib/python3.6/site-packages/sklearn/model_selection/_validation.py:516: DataConversionWarning: A column-vector y was passed when a 1d array was expected. Please change the shape of y to (n_samples, ), for example using ravel().\n",
      "  estimator.fit(X_train, y_train, **fit_params)\n",
      "/home/ritika/anaconda/lib/python3.6/site-packages/sklearn/model_selection/_validation.py:516: DataConversionWarning: A column-vector y was passed when a 1d array was expected. Please change the shape of y to (n_samples, ), for example using ravel().\n",
      "  estimator.fit(X_train, y_train, **fit_params)\n"
     ]
    },
    {
     "data": {
      "text/plain": [
       "[0.5496828752642706,\n",
       " 0.5463182897862233,\n",
       " 0.38461538461538464,\n",
       " 0.7258064516129032,\n",
       " 0.5898876404494382,\n",
       " 0.471976401179941,\n",
       " 0.547112462006079,\n",
       " 0.53125,\n",
       " 0.5844155844155844,\n",
       " 0.8852459016393442]"
      ]
     },
     "execution_count": 110,
     "metadata": {},
     "output_type": "execute_result"
    }
   ],
   "source": [
    "knn= KNeighborsClassifier(n_neighbors=2)\n",
    "knn.fit(X_train_price,y_train_price)\n",
    "val_pred_knn = knn.predict(X_test_price)\n",
    "scores_knn=caculate_cross_val_scores_knn(X_test_price,y_test_price)\n",
    "scores_knn"
   ]
  },
  {
   "cell_type": "code",
   "execution_count": 111,
   "metadata": {},
   "outputs": [
    {
     "data": {
      "text/plain": [
       "34.4288"
      ]
     },
     "execution_count": 111,
     "metadata": {},
     "output_type": "execute_result"
    }
   ],
   "source": [
    "round(np.sqrt(mean_squared_error(y_test_price, val_pred_knn)),4)"
   ]
  },
  {
   "cell_type": "code",
   "execution_count": 112,
   "metadata": {},
   "outputs": [
    {
     "data": {
      "text/plain": [
       "0.3076275924468832"
      ]
     },
     "execution_count": 112,
     "metadata": {},
     "output_type": "execute_result"
    }
   ],
   "source": [
    "r2_knn = r2_score(y_test_price, val_pred_knn)\n",
    "r2_knn"
   ]
  },
  {
   "cell_type": "markdown",
   "metadata": {},
   "source": [
    "<h1> Linear Regression </h1>"
   ]
  },
  {
   "cell_type": "code",
   "execution_count": 113,
   "metadata": {
    "collapsed": true
   },
   "outputs": [],
   "source": [
    "from sklearn.linear_model import LinearRegression\n",
    "from sklearn.linear_model import Lasso"
   ]
  },
  {
   "cell_type": "code",
   "execution_count": 114,
   "metadata": {},
   "outputs": [
    {
     "data": {
      "text/plain": [
       "array([ 4.06207731e-01, -2.07405849e+00, -1.66154936e+21,  4.90596232e-01,\n",
       "        4.60333316e-01,  4.74166000e-01,  4.72773816e-01,  5.51920784e-01,\n",
       "        5.32252934e-01,  5.13184970e-01])"
      ]
     },
     "execution_count": 114,
     "metadata": {},
     "output_type": "execute_result"
    }
   ],
   "source": [
    "lr=LinearRegression()\n",
    "lr.fit(X_train_price,y_train_price)\n",
    "val_pred_lr = lr.predict(X_test_price)\n",
    "scores_lr=cross_val_score(lr, X_test_price,y_test_price, cv=10)\n",
    "scores_lr"
   ]
  },
  {
   "cell_type": "code",
   "execution_count": 115,
   "metadata": {},
   "outputs": [
    {
     "data": {
      "text/plain": [
       "0.4129189628754012"
      ]
     },
     "execution_count": 115,
     "metadata": {},
     "output_type": "execute_result"
    }
   ],
   "source": [
    "r2_lr = r2_score(y_test_price, val_pred_lr)\n",
    "r2_lr"
   ]
  },
  {
   "cell_type": "code",
   "execution_count": 116,
   "metadata": {},
   "outputs": [
    {
     "data": {
      "text/plain": [
       "31.7031"
      ]
     },
     "execution_count": 116,
     "metadata": {},
     "output_type": "execute_result"
    }
   ],
   "source": [
    "round(np.sqrt(mean_squared_error(y_test_price, val_pred_lr)),4)"
   ]
  },
  {
   "cell_type": "code",
   "execution_count": null,
   "metadata": {
    "collapsed": true
   },
   "outputs": [],
   "source": []
  },
  {
   "cell_type": "code",
   "execution_count": null,
   "metadata": {
    "collapsed": true
   },
   "outputs": [],
   "source": []
  },
  {
   "cell_type": "markdown",
   "metadata": {},
   "source": [
    "<h1>Comparison of Models</h1>"
   ]
  },
  {
   "cell_type": "markdown",
   "metadata": {
    "collapsed": true
   },
   "source": [
    "<h2> Based on RMSE </h2>"
   ]
  },
  {
   "cell_type": "code",
   "execution_count": 117,
   "metadata": {
    "collapsed": true
   },
   "outputs": [],
   "source": [
    "rmse_values=[32.9263,22.9866,40.9853,33.8225,28.5357]"
   ]
  },
  {
   "cell_type": "code",
   "execution_count": 118,
   "metadata": {
    "collapsed": true
   },
   "outputs": [],
   "source": [
    "algo_names=['Decision Tree','xg_boost','dummy regressor','knn','Linear Regression']"
   ]
  },
  {
   "cell_type": "code",
   "execution_count": 119,
   "metadata": {
    "collapsed": true
   },
   "outputs": [],
   "source": [
    "def plot_bar__rmse():\n",
    "    # this is for plotting purpose\n",
    "    index = np.arange(len(algo_names))\n",
    "    plt.bar(index,rmse_values)\n",
    "    plt.xlabel('Name of algorithms', fontsize=10)\n",
    "    plt.ylabel('Value of RMSE', fontsize=10)\n",
    "    plt.xticks(index,algo_names, fontsize=10, rotation=30)\n",
    "    plt.title('RMSE values for different algorithms')\n",
    "    plt.show()"
   ]
  },
  {
   "cell_type": "code",
   "execution_count": 120,
   "metadata": {},
   "outputs": [
    {
     "data": {
      "image/png": "[encoded data removed]",
      "text/plain": [
       "<Figure size 576x396 with 1 Axes>"
      ]
     },
     "metadata": {},
     "output_type": "display_data"
    }
   ],
   "source": [
    "plot_bar__rmse()"
   ]
  },
  {
   "cell_type": "code",
   "execution_count": null,
   "metadata": {
    "collapsed": true
   },
   "outputs": [],
   "source": []
  },
  {
   "cell_type": "markdown",
   "metadata": {
    "collapsed": true
   },
   "source": [
    "<h2> Based on R2 Scores </h2>"
   ]
  },
  {
   "cell_type": "code",
   "execution_count": 121,
   "metadata": {
    "collapsed": true
   },
   "outputs": [],
   "source": [
    "r2_scores=[0.3541286104896251,0.6852168832966115,0.073104279,0.3184914339775635,0.51489172211404]"
   ]
  },
  {
   "cell_type": "code",
   "execution_count": 122,
   "metadata": {
    "collapsed": true
   },
   "outputs": [],
   "source": [
    "def plot_bar__r2scores():\n",
    "    # this is for plotting purpose\n",
    "    index = np.arange(len(algo_names))\n",
    "    plt.bar(index,r2_scores)\n",
    "    plt.xlabel('Name of algorithms', fontsize=10)\n",
    "    plt.ylabel('Value of R2 Scores', fontsize=10)\n",
    "    plt.xticks(index,algo_names, fontsize=10, rotation=30)\n",
    "    plt.title('R2 Scores for different algorithms')\n",
    "    plt.show()"
   ]
  },
  {
   "cell_type": "code",
   "execution_count": 123,
   "metadata": {},
   "outputs": [
    {
     "data": {
      "image/png": "[encoded data removed]",
      "text/plain": [
       "<Figure size 576x396 with 1 Axes>"
      ]
     },
     "metadata": {},
     "output_type": "display_data"
    }
   ],
   "source": [
    "plot_bar__r2scores()"
   ]
  },
  {
   "cell_type": "markdown",
   "metadata": {},
   "source": [
    "<h1> Statistical Testing</h1>"
   ]
  },
  {
   "cell_type": "code",
   "execution_count": 148,
   "metadata": {
    "collapsed": true
   },
   "outputs": [],
   "source": [
    "from scipy import stats"
   ]
  },
  {
   "cell_type": "markdown",
   "metadata": {},
   "source": [
    "<h2> Comparing XG BOOST With other algorithms</h2>"
   ]
  },
  {
   "cell_type": "code",
   "execution_count": 149,
   "metadata": {},
   "outputs": [
    {
     "data": {
      "text/plain": [
       "Ttest_relResult(statistic=-43.21583649594091, pvalue=9.496051870098077e-12)"
      ]
     },
     "execution_count": 149,
     "metadata": {},
     "output_type": "execute_result"
    }
   ],
   "source": [
    "stats.ttest_rel(scores_dr,scores_bt)"
   ]
  },
  {
   "cell_type": "code",
   "execution_count": 150,
   "metadata": {},
   "outputs": [
    {
     "data": {
      "text/plain": [
       "Ttest_relResult(statistic=-6.392477000256467, pvalue=0.0001263857540327622)"
      ]
     },
     "execution_count": 150,
     "metadata": {},
     "output_type": "execute_result"
    }
   ],
   "source": [
    "stats.ttest_rel(scores_lr,scores_bt)"
   ]
  },
  {
   "cell_type": "code",
   "execution_count": 151,
   "metadata": {},
   "outputs": [
    {
     "data": {
      "text/plain": [
       "Ttest_relResult(statistic=-5.155055762214709, pvalue=0.0005990542574018903)"
      ]
     },
     "execution_count": 151,
     "metadata": {},
     "output_type": "execute_result"
    }
   ],
   "source": [
    "stats.ttest_rel(scores_knn,scores_bt)"
   ]
  },
  {
   "cell_type": "code",
   "execution_count": 152,
   "metadata": {},
   "outputs": [
    {
     "data": {
      "text/plain": [
       "Ttest_relResult(statistic=-5.992890810472087, pvalue=0.00020427323091771072)"
      ]
     },
     "execution_count": 152,
     "metadata": {},
     "output_type": "execute_result"
    }
   ],
   "source": [
    "stats.ttest_rel(scores_dt,scores_bt)"
   ]
  },
  {
   "cell_type": "markdown",
   "metadata": {},
   "source": [
    "<h2> Comparing Dummy Regressor with other algorithms </h2>"
   ]
  },
  {
   "cell_type": "code",
   "execution_count": 153,
   "metadata": {},
   "outputs": [
    {
     "data": {
      "text/plain": [
       "Ttest_relResult(statistic=-3.826685297578019, pvalue=0.004048226825923456)"
      ]
     },
     "execution_count": 153,
     "metadata": {},
     "output_type": "execute_result"
    }
   ],
   "source": [
    "stats.ttest_rel(scores_dr,scores_dt)"
   ]
  },
  {
   "cell_type": "code",
   "execution_count": 154,
   "metadata": {},
   "outputs": [
    {
     "data": {
      "text/plain": [
       "Ttest_relResult(statistic=-17.91953881096889, pvalue=2.3867618178334952e-08)"
      ]
     },
     "execution_count": 154,
     "metadata": {},
     "output_type": "execute_result"
    }
   ],
   "source": [
    "stats.ttest_rel(scores_dr,scores_knn)"
   ]
  },
  {
   "cell_type": "code",
   "execution_count": 155,
   "metadata": {},
   "outputs": [
    {
     "data": {
      "text/plain": [
       "Ttest_relResult(statistic=-21.956552759068646, pvalue=3.980402983162189e-09)"
      ]
     },
     "execution_count": 155,
     "metadata": {},
     "output_type": "execute_result"
    }
   ],
   "source": [
    "stats.ttest_rel(scores_dr,scores_lr)"
   ]
  },
  {
   "cell_type": "code",
   "execution_count": null,
   "metadata": {
    "collapsed": true
   },
   "outputs": [],
   "source": []
  },
  {
   "cell_type": "markdown",
   "metadata": {},
   "source": [
    "<h2> Comparing KNN with other algorithms </h2>"
   ]
  },
  {
   "cell_type": "code",
   "execution_count": 156,
   "metadata": {},
   "outputs": [
    {
     "data": {
      "text/plain": [
       "Ttest_relResult(statistic=-0.9378222733321474, pvalue=0.3728189984052023)"
      ]
     },
     "execution_count": 156,
     "metadata": {},
     "output_type": "execute_result"
    }
   ],
   "source": [
    "stats.ttest_rel(scores_knn,scores_lr)"
   ]
  },
  {
   "cell_type": "code",
   "execution_count": 157,
   "metadata": {},
   "outputs": [
    {
     "data": {
      "text/plain": [
       "Ttest_relResult(statistic=-3.826685297578019, pvalue=0.004048226825923456)"
      ]
     },
     "execution_count": 157,
     "metadata": {},
     "output_type": "execute_result"
    }
   ],
   "source": [
    "stats.ttest_rel(scores_dr,scores_dt)"
   ]
  },
  {
   "cell_type": "markdown",
   "metadata": {},
   "source": [
    "<h2>Comparing Linear Regression with other algorithms </h2>"
   ]
  },
  {
   "cell_type": "code",
   "execution_count": 160,
   "metadata": {},
   "outputs": [
    {
     "data": {
      "text/plain": [
       "Ttest_relResult(statistic=4.175518347330759, pvalue=0.002391942926034981)"
      ]
     },
     "execution_count": 160,
     "metadata": {},
     "output_type": "execute_result"
    }
   ],
   "source": [
    "stats.ttest_rel(scores_lr,scores_dt)"
   ]
  },
  {
   "cell_type": "code",
   "execution_count": null,
   "metadata": {
    "collapsed": true
   },
   "outputs": [],
   "source": []
  }
 ],
 "metadata": {
  "kernelspec": {
   "display_name": "Python 3",
   "language": "python",
   "name": "python3"
  },
  "language_info": {
   "codemirror_mode": {
    "name": "ipython",
    "version": 3
   },
   "file_extension": ".py",
   "mimetype": "text/x-python",
   "name": "python",
   "nbconvert_exporter": "python",
   "pygments_lexer": "ipython3",
   "version": "3.7.4"
  }
 },
 "nbformat": 4,
 "nbformat_minor": 2
}
